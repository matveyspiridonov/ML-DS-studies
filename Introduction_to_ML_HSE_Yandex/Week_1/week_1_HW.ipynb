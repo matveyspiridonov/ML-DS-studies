{
 "cells": [
  {
   "cell_type": "code",
   "execution_count": 106,
   "id": "beginning-green",
   "metadata": {},
   "outputs": [],
   "source": [
    "import numpy as np\n",
    "import re\n",
    "import pandas as pd\n",
    "from scipy.optimize import minimize, differential_evolution\n",
    "from scipy.spatial.distance import cosine\n",
    "from math import sin, cos, exp\n",
    "import matplotlib.pyplot as plt"
   ]
  },
  {
   "cell_type": "markdown",
   "id": "christian-violation",
   "metadata": {},
   "source": [
    "# HW_1"
   ]
  },
  {
   "cell_type": "code",
   "execution_count": 2,
   "id": "experimental-charlotte",
   "metadata": {},
   "outputs": [
    {
     "name": "stdout",
     "output_type": "stream",
     "text": [
      "In comparison to dogs, cats have not undergone major changes during the domestication process.\n",
      "\n",
      "As cat simply catenates streams of bytes, it can be also used to concatenate binary files, where it will just concatenate sequence of bytes.\n",
      "\n",
      "A common interactive use of cat for a single file is to output the content of a file to standard output.\n",
      "\n",
      "Cats can hear sounds too faint or too high in frequency for human ears, such as those made by mice and other small animals.\n",
      "\n",
      "In one, people deliberately tamed cats in a process of artificial selection, as they were useful predators of vermin.\n",
      "\n",
      "The domesticated cat and its closest wild ancestor are both diploid organisms that possess 38 chromosomes and roughly 20,000 genes.\n",
      "\n",
      "Domestic cats are similar in size to the other members of the genus Felis, typically weighing between 4 and 5 kg (8.8 and 11.0 lb).\n",
      "\n",
      "However, if the output is piped or redirected, cat is unnecessary.\n",
      "\n",
      "cat with one named file is safer where human error is a concern - one wrong use of the default redirection symbol \">\" instead of \"<\" (often adjacent on keyboards) may permanently delete the file you were just needing to read.\n",
      "\n",
      "In terms of legibility, a sequence of commands starting with cat and connected by pipes has a clear left-to-right flow of information.\n",
      "\n",
      "Cat command is one of the basic commands that you learned when you started in the Unix / Linux world.\n",
      "\n",
      "Using cat command, the lines received from stdin can be redirected to a new file using redirection symbols.\n",
      "\n",
      "When you type simply cat command without any arguments, it just receives the stdin content and displays it in the stdout.\n",
      "\n",
      "Leopard was released on October 26, 2007 as the successor of Tiger (version 10.4), and is available in two editions.\n",
      "\n",
      "According to Apple, Leopard contains over 300 changes and enhancements over its predecessor, Mac OS X Tiger.\n",
      "\n",
      "As of Mid 2010, some Apple computers have firmware factory installed which will no longer allow installation of Mac OS X Leopard.\n",
      "\n",
      "Since Apple moved to using Intel processors in their computers, the OSx86 community has developed and now also allows Mac OS X Tiger and later releases to be installed on non-Apple x86-based computers.\n",
      "\n",
      "OS X Mountain Lion was released on July 25, 2012 for purchase and download through Apple's Mac App Store, as part of a switch to releasing OS X versions online and every year.\n",
      "\n",
      "Apple has released a small patch for the three most recent versions of Safari running on OS X Yosemite, Mavericks, and Mountain Lion.\n",
      "\n",
      "The Mountain Lion release marks the second time Apple has offered an incremental upgrade, rather than releasing a new cat entirely.\n",
      "\n",
      "Mac OS X Mountain Lion installs in place, so you won't need to create a separate disk or run the installation off an external drive.\n",
      "\n",
      "The fifth major update to Mac OS X, Leopard, contains such a mountain of features - more than 300 by Apple's count.\n"
     ]
    }
   ],
   "source": [
    "f = open('sentences.txt')\n",
    "lines = f.readlines()\n",
    "for line in lines:\n",
    "    print(line)"
   ]
  },
  {
   "cell_type": "code",
   "execution_count": 3,
   "id": "fresh-brick",
   "metadata": {},
   "outputs": [
    {
     "name": "stdout",
     "output_type": "stream",
     "text": [
      "in comparison to dogs, cats have not undergone major changes during the domestication process.\n",
      "\n",
      "as cat simply catenates streams of bytes, it can be also used to concatenate binary files, where it will just concatenate sequence of bytes.\n",
      "\n",
      "a common interactive use of cat for a single file is to output the content of a file to standard output.\n",
      "\n",
      "cats can hear sounds too faint or too high in frequency for human ears, such as those made by mice and other small animals.\n",
      "\n",
      "in one, people deliberately tamed cats in a process of artificial selection, as they were useful predators of vermin.\n",
      "\n",
      "the domesticated cat and its closest wild ancestor are both diploid organisms that possess 38 chromosomes and roughly 20,000 genes.\n",
      "\n",
      "domestic cats are similar in size to the other members of the genus felis, typically weighing between 4 and 5 kg (8.8 and 11.0 lb).\n",
      "\n",
      "however, if the output is piped or redirected, cat is unnecessary.\n",
      "\n",
      "cat with one named file is safer where human error is a concern - one wrong use of the default redirection symbol \">\" instead of \"<\" (often adjacent on keyboards) may permanently delete the file you were just needing to read.\n",
      "\n",
      "in terms of legibility, a sequence of commands starting with cat and connected by pipes has a clear left-to-right flow of information.\n",
      "\n",
      "cat command is one of the basic commands that you learned when you started in the unix / linux world.\n",
      "\n",
      "using cat command, the lines received from stdin can be redirected to a new file using redirection symbols.\n",
      "\n",
      "when you type simply cat command without any arguments, it just receives the stdin content and displays it in the stdout.\n",
      "\n",
      "leopard was released on october 26, 2007 as the successor of tiger (version 10.4), and is available in two editions.\n",
      "\n",
      "according to apple, leopard contains over 300 changes and enhancements over its predecessor, mac os x tiger.\n",
      "\n",
      "as of mid 2010, some apple computers have firmware factory installed which will no longer allow installation of mac os x leopard.\n",
      "\n",
      "since apple moved to using intel processors in their computers, the osx86 community has developed and now also allows mac os x tiger and later releases to be installed on non-apple x86-based computers.\n",
      "\n",
      "os x mountain lion was released on july 25, 2012 for purchase and download through apple's mac app store, as part of a switch to releasing os x versions online and every year.\n",
      "\n",
      "apple has released a small patch for the three most recent versions of safari running on os x yosemite, mavericks, and mountain lion.\n",
      "\n",
      "the mountain lion release marks the second time apple has offered an incremental upgrade, rather than releasing a new cat entirely.\n",
      "\n",
      "mac os x mountain lion installs in place, so you won't need to create a separate disk or run the installation off an external drive.\n",
      "\n",
      "the fifth major update to mac os x, leopard, contains such a mountain of features - more than 300 by apple's count.\n"
     ]
    }
   ],
   "source": [
    "for i in range(len(lines)):\n",
    "    lines[i] = lines[i].lower()\n",
    "    print(lines[i])"
   ]
  },
  {
   "cell_type": "code",
   "execution_count": 4,
   "id": "insured-tract",
   "metadata": {},
   "outputs": [
    {
     "name": "stdout",
     "output_type": "stream",
     "text": [
      "['in', 'comparison', 'to', 'dogs', 'cats', 'have', 'not', 'undergone', 'major', 'changes', 'during', 'the', 'domestication', 'process']\n"
     ]
    }
   ],
   "source": [
    "for i in range(len(lines)):\n",
    "    lines[i] = [word for word in re.split('[^a-z]', lines[i]) if len(word)>0]\n",
    "print(lines[0])"
   ]
  },
  {
   "cell_type": "code",
   "execution_count": 5,
   "id": "instrumental-analysis",
   "metadata": {},
   "outputs": [
    {
     "data": {
      "text/plain": [
       "['in',\n",
       " 'comparison',\n",
       " 'to',\n",
       " 'dogs',\n",
       " 'cats',\n",
       " 'have',\n",
       " 'not',\n",
       " 'undergone',\n",
       " 'major',\n",
       " 'changes',\n",
       " 'during',\n",
       " 'the',\n",
       " 'domestication',\n",
       " 'process',\n",
       " 'as',\n",
       " 'cat',\n",
       " 'simply',\n",
       " 'catenates',\n",
       " 'streams',\n",
       " 'of',\n",
       " 'bytes',\n",
       " 'it',\n",
       " 'can',\n",
       " 'be',\n",
       " 'also',\n",
       " 'used',\n",
       " 'to',\n",
       " 'concatenate',\n",
       " 'binary',\n",
       " 'files',\n",
       " 'where',\n",
       " 'it',\n",
       " 'will',\n",
       " 'just',\n",
       " 'concatenate',\n",
       " 'sequence',\n",
       " 'of',\n",
       " 'bytes',\n",
       " 'a',\n",
       " 'common',\n",
       " 'interactive',\n",
       " 'use',\n",
       " 'of',\n",
       " 'cat',\n",
       " 'for',\n",
       " 'a',\n",
       " 'single',\n",
       " 'file',\n",
       " 'is',\n",
       " 'to',\n",
       " 'output',\n",
       " 'the',\n",
       " 'content',\n",
       " 'of',\n",
       " 'a',\n",
       " 'file',\n",
       " 'to',\n",
       " 'standard',\n",
       " 'output',\n",
       " 'cats',\n",
       " 'can',\n",
       " 'hear',\n",
       " 'sounds',\n",
       " 'too',\n",
       " 'faint',\n",
       " 'or',\n",
       " 'too',\n",
       " 'high',\n",
       " 'in',\n",
       " 'frequency',\n",
       " 'for',\n",
       " 'human',\n",
       " 'ears',\n",
       " 'such',\n",
       " 'as',\n",
       " 'those',\n",
       " 'made',\n",
       " 'by',\n",
       " 'mice',\n",
       " 'and',\n",
       " 'other',\n",
       " 'small',\n",
       " 'animals',\n",
       " 'in',\n",
       " 'one',\n",
       " 'people',\n",
       " 'deliberately',\n",
       " 'tamed',\n",
       " 'cats',\n",
       " 'in',\n",
       " 'a',\n",
       " 'process',\n",
       " 'of',\n",
       " 'artificial',\n",
       " 'selection',\n",
       " 'as',\n",
       " 'they',\n",
       " 'were',\n",
       " 'useful',\n",
       " 'predators',\n",
       " 'of',\n",
       " 'vermin',\n",
       " 'the',\n",
       " 'domesticated',\n",
       " 'cat',\n",
       " 'and',\n",
       " 'its',\n",
       " 'closest',\n",
       " 'wild',\n",
       " 'ancestor',\n",
       " 'are',\n",
       " 'both',\n",
       " 'diploid',\n",
       " 'organisms',\n",
       " 'that',\n",
       " 'possess',\n",
       " 'chromosomes',\n",
       " 'and',\n",
       " 'roughly',\n",
       " 'genes',\n",
       " 'domestic',\n",
       " 'cats',\n",
       " 'are',\n",
       " 'similar',\n",
       " 'in',\n",
       " 'size',\n",
       " 'to',\n",
       " 'the',\n",
       " 'other',\n",
       " 'members',\n",
       " 'of',\n",
       " 'the',\n",
       " 'genus',\n",
       " 'felis',\n",
       " 'typically',\n",
       " 'weighing',\n",
       " 'between',\n",
       " 'and',\n",
       " 'kg',\n",
       " 'and',\n",
       " 'lb',\n",
       " 'however',\n",
       " 'if',\n",
       " 'the',\n",
       " 'output',\n",
       " 'is',\n",
       " 'piped',\n",
       " 'or',\n",
       " 'redirected',\n",
       " 'cat',\n",
       " 'is',\n",
       " 'unnecessary',\n",
       " 'cat',\n",
       " 'with',\n",
       " 'one',\n",
       " 'named',\n",
       " 'file',\n",
       " 'is',\n",
       " 'safer',\n",
       " 'where',\n",
       " 'human',\n",
       " 'error',\n",
       " 'is',\n",
       " 'a',\n",
       " 'concern',\n",
       " 'one',\n",
       " 'wrong',\n",
       " 'use',\n",
       " 'of',\n",
       " 'the',\n",
       " 'default',\n",
       " 'redirection',\n",
       " 'symbol',\n",
       " 'instead',\n",
       " 'of',\n",
       " 'often',\n",
       " 'adjacent',\n",
       " 'on',\n",
       " 'keyboards',\n",
       " 'may',\n",
       " 'permanently',\n",
       " 'delete',\n",
       " 'the',\n",
       " 'file',\n",
       " 'you',\n",
       " 'were',\n",
       " 'just',\n",
       " 'needing',\n",
       " 'to',\n",
       " 'read',\n",
       " 'in',\n",
       " 'terms',\n",
       " 'of',\n",
       " 'legibility',\n",
       " 'a',\n",
       " 'sequence',\n",
       " 'of',\n",
       " 'commands',\n",
       " 'starting',\n",
       " 'with',\n",
       " 'cat',\n",
       " 'and',\n",
       " 'connected',\n",
       " 'by',\n",
       " 'pipes',\n",
       " 'has',\n",
       " 'a',\n",
       " 'clear',\n",
       " 'left',\n",
       " 'to',\n",
       " 'right',\n",
       " 'flow',\n",
       " 'of',\n",
       " 'information',\n",
       " 'cat',\n",
       " 'command',\n",
       " 'is',\n",
       " 'one',\n",
       " 'of',\n",
       " 'the',\n",
       " 'basic',\n",
       " 'commands',\n",
       " 'that',\n",
       " 'you',\n",
       " 'learned',\n",
       " 'when',\n",
       " 'you',\n",
       " 'started',\n",
       " 'in',\n",
       " 'the',\n",
       " 'unix',\n",
       " 'linux',\n",
       " 'world',\n",
       " 'using',\n",
       " 'cat',\n",
       " 'command',\n",
       " 'the',\n",
       " 'lines',\n",
       " 'received',\n",
       " 'from',\n",
       " 'stdin',\n",
       " 'can',\n",
       " 'be',\n",
       " 'redirected',\n",
       " 'to',\n",
       " 'a',\n",
       " 'new',\n",
       " 'file',\n",
       " 'using',\n",
       " 'redirection',\n",
       " 'symbols',\n",
       " 'when',\n",
       " 'you',\n",
       " 'type',\n",
       " 'simply',\n",
       " 'cat',\n",
       " 'command',\n",
       " 'without',\n",
       " 'any',\n",
       " 'arguments',\n",
       " 'it',\n",
       " 'just',\n",
       " 'receives',\n",
       " 'the',\n",
       " 'stdin',\n",
       " 'content',\n",
       " 'and',\n",
       " 'displays',\n",
       " 'it',\n",
       " 'in',\n",
       " 'the',\n",
       " 'stdout',\n",
       " 'leopard',\n",
       " 'was',\n",
       " 'released',\n",
       " 'on',\n",
       " 'october',\n",
       " 'as',\n",
       " 'the',\n",
       " 'successor',\n",
       " 'of',\n",
       " 'tiger',\n",
       " 'version',\n",
       " 'and',\n",
       " 'is',\n",
       " 'available',\n",
       " 'in',\n",
       " 'two',\n",
       " 'editions',\n",
       " 'according',\n",
       " 'to',\n",
       " 'apple',\n",
       " 'leopard',\n",
       " 'contains',\n",
       " 'over',\n",
       " 'changes',\n",
       " 'and',\n",
       " 'enhancements',\n",
       " 'over',\n",
       " 'its',\n",
       " 'predecessor',\n",
       " 'mac',\n",
       " 'os',\n",
       " 'x',\n",
       " 'tiger',\n",
       " 'as',\n",
       " 'of',\n",
       " 'mid',\n",
       " 'some',\n",
       " 'apple',\n",
       " 'computers',\n",
       " 'have',\n",
       " 'firmware',\n",
       " 'factory',\n",
       " 'installed',\n",
       " 'which',\n",
       " 'will',\n",
       " 'no',\n",
       " 'longer',\n",
       " 'allow',\n",
       " 'installation',\n",
       " 'of',\n",
       " 'mac',\n",
       " 'os',\n",
       " 'x',\n",
       " 'leopard',\n",
       " 'since',\n",
       " 'apple',\n",
       " 'moved',\n",
       " 'to',\n",
       " 'using',\n",
       " 'intel',\n",
       " 'processors',\n",
       " 'in',\n",
       " 'their',\n",
       " 'computers',\n",
       " 'the',\n",
       " 'osx',\n",
       " 'community',\n",
       " 'has',\n",
       " 'developed',\n",
       " 'and',\n",
       " 'now',\n",
       " 'also',\n",
       " 'allows',\n",
       " 'mac',\n",
       " 'os',\n",
       " 'x',\n",
       " 'tiger',\n",
       " 'and',\n",
       " 'later',\n",
       " 'releases',\n",
       " 'to',\n",
       " 'be',\n",
       " 'installed',\n",
       " 'on',\n",
       " 'non',\n",
       " 'apple',\n",
       " 'x',\n",
       " 'based',\n",
       " 'computers',\n",
       " 'os',\n",
       " 'x',\n",
       " 'mountain',\n",
       " 'lion',\n",
       " 'was',\n",
       " 'released',\n",
       " 'on',\n",
       " 'july',\n",
       " 'for',\n",
       " 'purchase',\n",
       " 'and',\n",
       " 'download',\n",
       " 'through',\n",
       " 'apple',\n",
       " 's',\n",
       " 'mac',\n",
       " 'app',\n",
       " 'store',\n",
       " 'as',\n",
       " 'part',\n",
       " 'of',\n",
       " 'a',\n",
       " 'switch',\n",
       " 'to',\n",
       " 'releasing',\n",
       " 'os',\n",
       " 'x',\n",
       " 'versions',\n",
       " 'online',\n",
       " 'and',\n",
       " 'every',\n",
       " 'year',\n",
       " 'apple',\n",
       " 'has',\n",
       " 'released',\n",
       " 'a',\n",
       " 'small',\n",
       " 'patch',\n",
       " 'for',\n",
       " 'the',\n",
       " 'three',\n",
       " 'most',\n",
       " 'recent',\n",
       " 'versions',\n",
       " 'of',\n",
       " 'safari',\n",
       " 'running',\n",
       " 'on',\n",
       " 'os',\n",
       " 'x',\n",
       " 'yosemite',\n",
       " 'mavericks',\n",
       " 'and',\n",
       " 'mountain',\n",
       " 'lion',\n",
       " 'the',\n",
       " 'mountain',\n",
       " 'lion',\n",
       " 'release',\n",
       " 'marks',\n",
       " 'the',\n",
       " 'second',\n",
       " 'time',\n",
       " 'apple',\n",
       " 'has',\n",
       " 'offered',\n",
       " 'an',\n",
       " 'incremental',\n",
       " 'upgrade',\n",
       " 'rather',\n",
       " 'than',\n",
       " 'releasing',\n",
       " 'a',\n",
       " 'new',\n",
       " 'cat',\n",
       " 'entirely',\n",
       " 'mac',\n",
       " 'os',\n",
       " 'x',\n",
       " 'mountain',\n",
       " 'lion',\n",
       " 'installs',\n",
       " 'in',\n",
       " 'place',\n",
       " 'so',\n",
       " 'you',\n",
       " 'won',\n",
       " 't',\n",
       " 'need',\n",
       " 'to',\n",
       " 'create',\n",
       " 'a',\n",
       " 'separate',\n",
       " 'disk',\n",
       " 'or',\n",
       " 'run',\n",
       " 'the',\n",
       " 'installation',\n",
       " 'off',\n",
       " 'an',\n",
       " 'external',\n",
       " 'drive',\n",
       " 'the',\n",
       " 'fifth',\n",
       " 'major',\n",
       " 'update',\n",
       " 'to',\n",
       " 'mac',\n",
       " 'os',\n",
       " 'x',\n",
       " 'leopard',\n",
       " 'contains',\n",
       " 'such',\n",
       " 'a',\n",
       " 'mountain',\n",
       " 'of',\n",
       " 'features',\n",
       " 'more',\n",
       " 'than',\n",
       " 'by',\n",
       " 'apple',\n",
       " 's',\n",
       " 'count']"
      ]
     },
     "execution_count": 5,
     "metadata": {},
     "output_type": "execute_result"
    }
   ],
   "source": [
    "text = []\n",
    "for line in lines:\n",
    "    text += line\n",
    "text"
   ]
  },
  {
   "cell_type": "code",
   "execution_count": 6,
   "id": "mobile-picture",
   "metadata": {},
   "outputs": [],
   "source": [
    "unique = list(set(text))"
   ]
  },
  {
   "cell_type": "code",
   "execution_count": 7,
   "id": "adopted-contribution",
   "metadata": {},
   "outputs": [
    {
     "data": {
      "text/html": [
       "<div>\n",
       "<style scoped>\n",
       "    .dataframe tbody tr th:only-of-type {\n",
       "        vertical-align: middle;\n",
       "    }\n",
       "\n",
       "    .dataframe tbody tr th {\n",
       "        vertical-align: top;\n",
       "    }\n",
       "\n",
       "    .dataframe thead th {\n",
       "        text-align: right;\n",
       "    }\n",
       "</style>\n",
       "<table border=\"1\" class=\"dataframe\">\n",
       "  <thead>\n",
       "    <tr style=\"text-align: right;\">\n",
       "      <th></th>\n",
       "      <th>catenates</th>\n",
       "      <th>clear</th>\n",
       "      <th>no</th>\n",
       "      <th>output</th>\n",
       "      <th>community</th>\n",
       "      <th>non</th>\n",
       "      <th>legibility</th>\n",
       "      <th>are</th>\n",
       "      <th>dogs</th>\n",
       "      <th>incremental</th>\n",
       "      <th>...</th>\n",
       "      <th>used</th>\n",
       "      <th>read</th>\n",
       "      <th>released</th>\n",
       "      <th>new</th>\n",
       "      <th>to</th>\n",
       "      <th>the</th>\n",
       "      <th>lion</th>\n",
       "      <th>since</th>\n",
       "      <th>installed</th>\n",
       "      <th>two</th>\n",
       "    </tr>\n",
       "  </thead>\n",
       "  <tbody>\n",
       "  </tbody>\n",
       "</table>\n",
       "<p>0 rows × 254 columns</p>\n",
       "</div>"
      ],
      "text/plain": [
       "Empty DataFrame\n",
       "Columns: [catenates, clear, no, output, community, non, legibility, are, dogs, incremental, similar, have, other, without, streams, as, wild, external, possess, sequence, tiger, yosemite, need, based, app, wrong, july, by, separate, cats, files, releasing, connected, displays, october, using, one, both, that, delete, during, firmware, arguments, use, part, disk, high, three, later, mountain, safari, interactive, domestication, selection, be, which, predecessor, basic, a, useful, editions, common, domesticated, domestic, successor, you, between, factory, download, time, developed, unix, their, features, allow, won, bytes, off, second, redirection, more, symbols, mavericks, fifth, undergone, unnecessary, moved, predators, adjacent, needing, it, has, intel, named, its, diploid, over, right, year, tamed, ...]\n",
       "Index: []\n",
       "\n",
       "[0 rows x 254 columns]"
      ]
     },
     "execution_count": 7,
     "metadata": {},
     "output_type": "execute_result"
    }
   ],
   "source": [
    "df = pd.DataFrame(columns = list(set(text)))\n",
    "df"
   ]
  },
  {
   "cell_type": "code",
   "execution_count": 8,
   "id": "tracked-market",
   "metadata": {},
   "outputs": [],
   "source": [
    "for i in lines:\n",
    "    d = {}\n",
    "    for j in unique:\n",
    "        count = 0\n",
    "        for k in i:\n",
    "            if j == k:\n",
    "                count += 1\n",
    "        d[j] = count\n",
    "    df = df.append(d, ignore_index=True)"
   ]
  },
  {
   "cell_type": "code",
   "execution_count": 9,
   "id": "spoken-israeli",
   "metadata": {},
   "outputs": [
    {
     "data": {
      "text/html": [
       "<div>\n",
       "<style scoped>\n",
       "    .dataframe tbody tr th:only-of-type {\n",
       "        vertical-align: middle;\n",
       "    }\n",
       "\n",
       "    .dataframe tbody tr th {\n",
       "        vertical-align: top;\n",
       "    }\n",
       "\n",
       "    .dataframe thead th {\n",
       "        text-align: right;\n",
       "    }\n",
       "</style>\n",
       "<table border=\"1\" class=\"dataframe\">\n",
       "  <thead>\n",
       "    <tr style=\"text-align: right;\">\n",
       "      <th></th>\n",
       "      <th>catenates</th>\n",
       "      <th>clear</th>\n",
       "      <th>no</th>\n",
       "      <th>output</th>\n",
       "      <th>community</th>\n",
       "      <th>non</th>\n",
       "      <th>legibility</th>\n",
       "      <th>are</th>\n",
       "      <th>dogs</th>\n",
       "      <th>incremental</th>\n",
       "      <th>...</th>\n",
       "      <th>used</th>\n",
       "      <th>read</th>\n",
       "      <th>released</th>\n",
       "      <th>new</th>\n",
       "      <th>to</th>\n",
       "      <th>the</th>\n",
       "      <th>lion</th>\n",
       "      <th>since</th>\n",
       "      <th>installed</th>\n",
       "      <th>two</th>\n",
       "    </tr>\n",
       "  </thead>\n",
       "  <tbody>\n",
       "    <tr>\n",
       "      <th>0</th>\n",
       "      <td>0</td>\n",
       "      <td>0</td>\n",
       "      <td>0</td>\n",
       "      <td>0</td>\n",
       "      <td>0</td>\n",
       "      <td>0</td>\n",
       "      <td>0</td>\n",
       "      <td>0</td>\n",
       "      <td>1</td>\n",
       "      <td>0</td>\n",
       "      <td>...</td>\n",
       "      <td>0</td>\n",
       "      <td>0</td>\n",
       "      <td>0</td>\n",
       "      <td>0</td>\n",
       "      <td>1</td>\n",
       "      <td>1</td>\n",
       "      <td>0</td>\n",
       "      <td>0</td>\n",
       "      <td>0</td>\n",
       "      <td>0</td>\n",
       "    </tr>\n",
       "    <tr>\n",
       "      <th>1</th>\n",
       "      <td>1</td>\n",
       "      <td>0</td>\n",
       "      <td>0</td>\n",
       "      <td>0</td>\n",
       "      <td>0</td>\n",
       "      <td>0</td>\n",
       "      <td>0</td>\n",
       "      <td>0</td>\n",
       "      <td>0</td>\n",
       "      <td>0</td>\n",
       "      <td>...</td>\n",
       "      <td>1</td>\n",
       "      <td>0</td>\n",
       "      <td>0</td>\n",
       "      <td>0</td>\n",
       "      <td>1</td>\n",
       "      <td>0</td>\n",
       "      <td>0</td>\n",
       "      <td>0</td>\n",
       "      <td>0</td>\n",
       "      <td>0</td>\n",
       "    </tr>\n",
       "    <tr>\n",
       "      <th>2</th>\n",
       "      <td>0</td>\n",
       "      <td>0</td>\n",
       "      <td>0</td>\n",
       "      <td>2</td>\n",
       "      <td>0</td>\n",
       "      <td>0</td>\n",
       "      <td>0</td>\n",
       "      <td>0</td>\n",
       "      <td>0</td>\n",
       "      <td>0</td>\n",
       "      <td>...</td>\n",
       "      <td>0</td>\n",
       "      <td>0</td>\n",
       "      <td>0</td>\n",
       "      <td>0</td>\n",
       "      <td>2</td>\n",
       "      <td>1</td>\n",
       "      <td>0</td>\n",
       "      <td>0</td>\n",
       "      <td>0</td>\n",
       "      <td>0</td>\n",
       "    </tr>\n",
       "    <tr>\n",
       "      <th>3</th>\n",
       "      <td>0</td>\n",
       "      <td>0</td>\n",
       "      <td>0</td>\n",
       "      <td>0</td>\n",
       "      <td>0</td>\n",
       "      <td>0</td>\n",
       "      <td>0</td>\n",
       "      <td>0</td>\n",
       "      <td>0</td>\n",
       "      <td>0</td>\n",
       "      <td>...</td>\n",
       "      <td>0</td>\n",
       "      <td>0</td>\n",
       "      <td>0</td>\n",
       "      <td>0</td>\n",
       "      <td>0</td>\n",
       "      <td>0</td>\n",
       "      <td>0</td>\n",
       "      <td>0</td>\n",
       "      <td>0</td>\n",
       "      <td>0</td>\n",
       "    </tr>\n",
       "    <tr>\n",
       "      <th>4</th>\n",
       "      <td>0</td>\n",
       "      <td>0</td>\n",
       "      <td>0</td>\n",
       "      <td>0</td>\n",
       "      <td>0</td>\n",
       "      <td>0</td>\n",
       "      <td>0</td>\n",
       "      <td>0</td>\n",
       "      <td>0</td>\n",
       "      <td>0</td>\n",
       "      <td>...</td>\n",
       "      <td>0</td>\n",
       "      <td>0</td>\n",
       "      <td>0</td>\n",
       "      <td>0</td>\n",
       "      <td>0</td>\n",
       "      <td>0</td>\n",
       "      <td>0</td>\n",
       "      <td>0</td>\n",
       "      <td>0</td>\n",
       "      <td>0</td>\n",
       "    </tr>\n",
       "    <tr>\n",
       "      <th>5</th>\n",
       "      <td>0</td>\n",
       "      <td>0</td>\n",
       "      <td>0</td>\n",
       "      <td>0</td>\n",
       "      <td>0</td>\n",
       "      <td>0</td>\n",
       "      <td>0</td>\n",
       "      <td>1</td>\n",
       "      <td>0</td>\n",
       "      <td>0</td>\n",
       "      <td>...</td>\n",
       "      <td>0</td>\n",
       "      <td>0</td>\n",
       "      <td>0</td>\n",
       "      <td>0</td>\n",
       "      <td>0</td>\n",
       "      <td>1</td>\n",
       "      <td>0</td>\n",
       "      <td>0</td>\n",
       "      <td>0</td>\n",
       "      <td>0</td>\n",
       "    </tr>\n",
       "    <tr>\n",
       "      <th>6</th>\n",
       "      <td>0</td>\n",
       "      <td>0</td>\n",
       "      <td>0</td>\n",
       "      <td>0</td>\n",
       "      <td>0</td>\n",
       "      <td>0</td>\n",
       "      <td>0</td>\n",
       "      <td>1</td>\n",
       "      <td>0</td>\n",
       "      <td>0</td>\n",
       "      <td>...</td>\n",
       "      <td>0</td>\n",
       "      <td>0</td>\n",
       "      <td>0</td>\n",
       "      <td>0</td>\n",
       "      <td>1</td>\n",
       "      <td>2</td>\n",
       "      <td>0</td>\n",
       "      <td>0</td>\n",
       "      <td>0</td>\n",
       "      <td>0</td>\n",
       "    </tr>\n",
       "    <tr>\n",
       "      <th>7</th>\n",
       "      <td>0</td>\n",
       "      <td>0</td>\n",
       "      <td>0</td>\n",
       "      <td>1</td>\n",
       "      <td>0</td>\n",
       "      <td>0</td>\n",
       "      <td>0</td>\n",
       "      <td>0</td>\n",
       "      <td>0</td>\n",
       "      <td>0</td>\n",
       "      <td>...</td>\n",
       "      <td>0</td>\n",
       "      <td>0</td>\n",
       "      <td>0</td>\n",
       "      <td>0</td>\n",
       "      <td>0</td>\n",
       "      <td>1</td>\n",
       "      <td>0</td>\n",
       "      <td>0</td>\n",
       "      <td>0</td>\n",
       "      <td>0</td>\n",
       "    </tr>\n",
       "    <tr>\n",
       "      <th>8</th>\n",
       "      <td>0</td>\n",
       "      <td>0</td>\n",
       "      <td>0</td>\n",
       "      <td>0</td>\n",
       "      <td>0</td>\n",
       "      <td>0</td>\n",
       "      <td>0</td>\n",
       "      <td>0</td>\n",
       "      <td>0</td>\n",
       "      <td>0</td>\n",
       "      <td>...</td>\n",
       "      <td>0</td>\n",
       "      <td>1</td>\n",
       "      <td>0</td>\n",
       "      <td>0</td>\n",
       "      <td>1</td>\n",
       "      <td>2</td>\n",
       "      <td>0</td>\n",
       "      <td>0</td>\n",
       "      <td>0</td>\n",
       "      <td>0</td>\n",
       "    </tr>\n",
       "    <tr>\n",
       "      <th>9</th>\n",
       "      <td>0</td>\n",
       "      <td>1</td>\n",
       "      <td>0</td>\n",
       "      <td>0</td>\n",
       "      <td>0</td>\n",
       "      <td>0</td>\n",
       "      <td>1</td>\n",
       "      <td>0</td>\n",
       "      <td>0</td>\n",
       "      <td>0</td>\n",
       "      <td>...</td>\n",
       "      <td>0</td>\n",
       "      <td>0</td>\n",
       "      <td>0</td>\n",
       "      <td>0</td>\n",
       "      <td>1</td>\n",
       "      <td>0</td>\n",
       "      <td>0</td>\n",
       "      <td>0</td>\n",
       "      <td>0</td>\n",
       "      <td>0</td>\n",
       "    </tr>\n",
       "    <tr>\n",
       "      <th>10</th>\n",
       "      <td>0</td>\n",
       "      <td>0</td>\n",
       "      <td>0</td>\n",
       "      <td>0</td>\n",
       "      <td>0</td>\n",
       "      <td>0</td>\n",
       "      <td>0</td>\n",
       "      <td>0</td>\n",
       "      <td>0</td>\n",
       "      <td>0</td>\n",
       "      <td>...</td>\n",
       "      <td>0</td>\n",
       "      <td>0</td>\n",
       "      <td>0</td>\n",
       "      <td>0</td>\n",
       "      <td>0</td>\n",
       "      <td>2</td>\n",
       "      <td>0</td>\n",
       "      <td>0</td>\n",
       "      <td>0</td>\n",
       "      <td>0</td>\n",
       "    </tr>\n",
       "    <tr>\n",
       "      <th>11</th>\n",
       "      <td>0</td>\n",
       "      <td>0</td>\n",
       "      <td>0</td>\n",
       "      <td>0</td>\n",
       "      <td>0</td>\n",
       "      <td>0</td>\n",
       "      <td>0</td>\n",
       "      <td>0</td>\n",
       "      <td>0</td>\n",
       "      <td>0</td>\n",
       "      <td>...</td>\n",
       "      <td>0</td>\n",
       "      <td>0</td>\n",
       "      <td>0</td>\n",
       "      <td>1</td>\n",
       "      <td>1</td>\n",
       "      <td>1</td>\n",
       "      <td>0</td>\n",
       "      <td>0</td>\n",
       "      <td>0</td>\n",
       "      <td>0</td>\n",
       "    </tr>\n",
       "    <tr>\n",
       "      <th>12</th>\n",
       "      <td>0</td>\n",
       "      <td>0</td>\n",
       "      <td>0</td>\n",
       "      <td>0</td>\n",
       "      <td>0</td>\n",
       "      <td>0</td>\n",
       "      <td>0</td>\n",
       "      <td>0</td>\n",
       "      <td>0</td>\n",
       "      <td>0</td>\n",
       "      <td>...</td>\n",
       "      <td>0</td>\n",
       "      <td>0</td>\n",
       "      <td>0</td>\n",
       "      <td>0</td>\n",
       "      <td>0</td>\n",
       "      <td>2</td>\n",
       "      <td>0</td>\n",
       "      <td>0</td>\n",
       "      <td>0</td>\n",
       "      <td>0</td>\n",
       "    </tr>\n",
       "    <tr>\n",
       "      <th>13</th>\n",
       "      <td>0</td>\n",
       "      <td>0</td>\n",
       "      <td>0</td>\n",
       "      <td>0</td>\n",
       "      <td>0</td>\n",
       "      <td>0</td>\n",
       "      <td>0</td>\n",
       "      <td>0</td>\n",
       "      <td>0</td>\n",
       "      <td>0</td>\n",
       "      <td>...</td>\n",
       "      <td>0</td>\n",
       "      <td>0</td>\n",
       "      <td>1</td>\n",
       "      <td>0</td>\n",
       "      <td>0</td>\n",
       "      <td>1</td>\n",
       "      <td>0</td>\n",
       "      <td>0</td>\n",
       "      <td>0</td>\n",
       "      <td>1</td>\n",
       "    </tr>\n",
       "    <tr>\n",
       "      <th>14</th>\n",
       "      <td>0</td>\n",
       "      <td>0</td>\n",
       "      <td>0</td>\n",
       "      <td>0</td>\n",
       "      <td>0</td>\n",
       "      <td>0</td>\n",
       "      <td>0</td>\n",
       "      <td>0</td>\n",
       "      <td>0</td>\n",
       "      <td>0</td>\n",
       "      <td>...</td>\n",
       "      <td>0</td>\n",
       "      <td>0</td>\n",
       "      <td>0</td>\n",
       "      <td>0</td>\n",
       "      <td>1</td>\n",
       "      <td>0</td>\n",
       "      <td>0</td>\n",
       "      <td>0</td>\n",
       "      <td>0</td>\n",
       "      <td>0</td>\n",
       "    </tr>\n",
       "    <tr>\n",
       "      <th>15</th>\n",
       "      <td>0</td>\n",
       "      <td>0</td>\n",
       "      <td>1</td>\n",
       "      <td>0</td>\n",
       "      <td>0</td>\n",
       "      <td>0</td>\n",
       "      <td>0</td>\n",
       "      <td>0</td>\n",
       "      <td>0</td>\n",
       "      <td>0</td>\n",
       "      <td>...</td>\n",
       "      <td>0</td>\n",
       "      <td>0</td>\n",
       "      <td>0</td>\n",
       "      <td>0</td>\n",
       "      <td>0</td>\n",
       "      <td>0</td>\n",
       "      <td>0</td>\n",
       "      <td>0</td>\n",
       "      <td>1</td>\n",
       "      <td>0</td>\n",
       "    </tr>\n",
       "    <tr>\n",
       "      <th>16</th>\n",
       "      <td>0</td>\n",
       "      <td>0</td>\n",
       "      <td>0</td>\n",
       "      <td>0</td>\n",
       "      <td>1</td>\n",
       "      <td>1</td>\n",
       "      <td>0</td>\n",
       "      <td>0</td>\n",
       "      <td>0</td>\n",
       "      <td>0</td>\n",
       "      <td>...</td>\n",
       "      <td>0</td>\n",
       "      <td>0</td>\n",
       "      <td>0</td>\n",
       "      <td>0</td>\n",
       "      <td>2</td>\n",
       "      <td>1</td>\n",
       "      <td>0</td>\n",
       "      <td>1</td>\n",
       "      <td>1</td>\n",
       "      <td>0</td>\n",
       "    </tr>\n",
       "    <tr>\n",
       "      <th>17</th>\n",
       "      <td>0</td>\n",
       "      <td>0</td>\n",
       "      <td>0</td>\n",
       "      <td>0</td>\n",
       "      <td>0</td>\n",
       "      <td>0</td>\n",
       "      <td>0</td>\n",
       "      <td>0</td>\n",
       "      <td>0</td>\n",
       "      <td>0</td>\n",
       "      <td>...</td>\n",
       "      <td>0</td>\n",
       "      <td>0</td>\n",
       "      <td>1</td>\n",
       "      <td>0</td>\n",
       "      <td>1</td>\n",
       "      <td>0</td>\n",
       "      <td>1</td>\n",
       "      <td>0</td>\n",
       "      <td>0</td>\n",
       "      <td>0</td>\n",
       "    </tr>\n",
       "    <tr>\n",
       "      <th>18</th>\n",
       "      <td>0</td>\n",
       "      <td>0</td>\n",
       "      <td>0</td>\n",
       "      <td>0</td>\n",
       "      <td>0</td>\n",
       "      <td>0</td>\n",
       "      <td>0</td>\n",
       "      <td>0</td>\n",
       "      <td>0</td>\n",
       "      <td>0</td>\n",
       "      <td>...</td>\n",
       "      <td>0</td>\n",
       "      <td>0</td>\n",
       "      <td>1</td>\n",
       "      <td>0</td>\n",
       "      <td>0</td>\n",
       "      <td>1</td>\n",
       "      <td>1</td>\n",
       "      <td>0</td>\n",
       "      <td>0</td>\n",
       "      <td>0</td>\n",
       "    </tr>\n",
       "    <tr>\n",
       "      <th>19</th>\n",
       "      <td>0</td>\n",
       "      <td>0</td>\n",
       "      <td>0</td>\n",
       "      <td>0</td>\n",
       "      <td>0</td>\n",
       "      <td>0</td>\n",
       "      <td>0</td>\n",
       "      <td>0</td>\n",
       "      <td>0</td>\n",
       "      <td>1</td>\n",
       "      <td>...</td>\n",
       "      <td>0</td>\n",
       "      <td>0</td>\n",
       "      <td>0</td>\n",
       "      <td>1</td>\n",
       "      <td>0</td>\n",
       "      <td>2</td>\n",
       "      <td>1</td>\n",
       "      <td>0</td>\n",
       "      <td>0</td>\n",
       "      <td>0</td>\n",
       "    </tr>\n",
       "    <tr>\n",
       "      <th>20</th>\n",
       "      <td>0</td>\n",
       "      <td>0</td>\n",
       "      <td>0</td>\n",
       "      <td>0</td>\n",
       "      <td>0</td>\n",
       "      <td>0</td>\n",
       "      <td>0</td>\n",
       "      <td>0</td>\n",
       "      <td>0</td>\n",
       "      <td>0</td>\n",
       "      <td>...</td>\n",
       "      <td>0</td>\n",
       "      <td>0</td>\n",
       "      <td>0</td>\n",
       "      <td>0</td>\n",
       "      <td>1</td>\n",
       "      <td>1</td>\n",
       "      <td>1</td>\n",
       "      <td>0</td>\n",
       "      <td>0</td>\n",
       "      <td>0</td>\n",
       "    </tr>\n",
       "    <tr>\n",
       "      <th>21</th>\n",
       "      <td>0</td>\n",
       "      <td>0</td>\n",
       "      <td>0</td>\n",
       "      <td>0</td>\n",
       "      <td>0</td>\n",
       "      <td>0</td>\n",
       "      <td>0</td>\n",
       "      <td>0</td>\n",
       "      <td>0</td>\n",
       "      <td>0</td>\n",
       "      <td>...</td>\n",
       "      <td>0</td>\n",
       "      <td>0</td>\n",
       "      <td>0</td>\n",
       "      <td>0</td>\n",
       "      <td>1</td>\n",
       "      <td>1</td>\n",
       "      <td>0</td>\n",
       "      <td>0</td>\n",
       "      <td>0</td>\n",
       "      <td>0</td>\n",
       "    </tr>\n",
       "  </tbody>\n",
       "</table>\n",
       "<p>22 rows × 254 columns</p>\n",
       "</div>"
      ],
      "text/plain": [
       "   catenates clear no output community non legibility are dogs incremental  \\\n",
       "0          0     0  0      0         0   0          0   0    1           0   \n",
       "1          1     0  0      0         0   0          0   0    0           0   \n",
       "2          0     0  0      2         0   0          0   0    0           0   \n",
       "3          0     0  0      0         0   0          0   0    0           0   \n",
       "4          0     0  0      0         0   0          0   0    0           0   \n",
       "5          0     0  0      0         0   0          0   1    0           0   \n",
       "6          0     0  0      0         0   0          0   1    0           0   \n",
       "7          0     0  0      1         0   0          0   0    0           0   \n",
       "8          0     0  0      0         0   0          0   0    0           0   \n",
       "9          0     1  0      0         0   0          1   0    0           0   \n",
       "10         0     0  0      0         0   0          0   0    0           0   \n",
       "11         0     0  0      0         0   0          0   0    0           0   \n",
       "12         0     0  0      0         0   0          0   0    0           0   \n",
       "13         0     0  0      0         0   0          0   0    0           0   \n",
       "14         0     0  0      0         0   0          0   0    0           0   \n",
       "15         0     0  1      0         0   0          0   0    0           0   \n",
       "16         0     0  0      0         1   1          0   0    0           0   \n",
       "17         0     0  0      0         0   0          0   0    0           0   \n",
       "18         0     0  0      0         0   0          0   0    0           0   \n",
       "19         0     0  0      0         0   0          0   0    0           1   \n",
       "20         0     0  0      0         0   0          0   0    0           0   \n",
       "21         0     0  0      0         0   0          0   0    0           0   \n",
       "\n",
       "    ... used read released new to the lion since installed two  \n",
       "0   ...    0    0        0   0  1   1    0     0         0   0  \n",
       "1   ...    1    0        0   0  1   0    0     0         0   0  \n",
       "2   ...    0    0        0   0  2   1    0     0         0   0  \n",
       "3   ...    0    0        0   0  0   0    0     0         0   0  \n",
       "4   ...    0    0        0   0  0   0    0     0         0   0  \n",
       "5   ...    0    0        0   0  0   1    0     0         0   0  \n",
       "6   ...    0    0        0   0  1   2    0     0         0   0  \n",
       "7   ...    0    0        0   0  0   1    0     0         0   0  \n",
       "8   ...    0    1        0   0  1   2    0     0         0   0  \n",
       "9   ...    0    0        0   0  1   0    0     0         0   0  \n",
       "10  ...    0    0        0   0  0   2    0     0         0   0  \n",
       "11  ...    0    0        0   1  1   1    0     0         0   0  \n",
       "12  ...    0    0        0   0  0   2    0     0         0   0  \n",
       "13  ...    0    0        1   0  0   1    0     0         0   1  \n",
       "14  ...    0    0        0   0  1   0    0     0         0   0  \n",
       "15  ...    0    0        0   0  0   0    0     0         1   0  \n",
       "16  ...    0    0        0   0  2   1    0     1         1   0  \n",
       "17  ...    0    0        1   0  1   0    1     0         0   0  \n",
       "18  ...    0    0        1   0  0   1    1     0         0   0  \n",
       "19  ...    0    0        0   1  0   2    1     0         0   0  \n",
       "20  ...    0    0        0   0  1   1    1     0         0   0  \n",
       "21  ...    0    0        0   0  1   1    0     0         0   0  \n",
       "\n",
       "[22 rows x 254 columns]"
      ]
     },
     "execution_count": 9,
     "metadata": {},
     "output_type": "execute_result"
    }
   ],
   "source": [
    "df"
   ]
  },
  {
   "cell_type": "code",
   "execution_count": 10,
   "id": "standing-swiss",
   "metadata": {},
   "outputs": [],
   "source": [
    "df['Range'] = df.apply(lambda x: cosine(list(df.loc[0,:]), list(x)), axis = 1)"
   ]
  },
  {
   "cell_type": "code",
   "execution_count": 11,
   "id": "transparent-brave",
   "metadata": {},
   "outputs": [
    {
     "data": {
      "text/plain": [
       "0     0.000000\n",
       "6     0.732739\n",
       "4     0.777089\n",
       "21    0.825036\n",
       "10    0.832817\n",
       "12    0.839643\n",
       "16    0.840636\n",
       "20    0.842757\n",
       "2     0.864474\n",
       "13    0.870359\n",
       "14    0.874012\n",
       "11    0.880477\n",
       "8     0.884272\n",
       "19    0.888544\n",
       "3     0.895172\n",
       "9     0.905509\n",
       "7     0.925875\n",
       "5     0.940239\n",
       "15    0.944272\n",
       "18    0.944272\n",
       "1     0.952754\n",
       "17    0.956645\n",
       "Name: Range, dtype: float64"
      ]
     },
     "execution_count": 11,
     "metadata": {},
     "output_type": "execute_result"
    }
   ],
   "source": [
    "df['Range'].sort_values(ascending = True)"
   ]
  },
  {
   "cell_type": "code",
   "execution_count": 55,
   "id": "alternative-happening",
   "metadata": {},
   "outputs": [],
   "source": [
    "def f(x):\n",
    "    return np.sin(x / 5) * np.exp(x / 10) + 5 * np.exp(-x / 2)"
   ]
  },
  {
   "cell_type": "code",
   "execution_count": 56,
   "id": "western-sitting",
   "metadata": {},
   "outputs": [
    {
     "data": {
      "text/plain": [
       "array([[ 1.,  1.],\n",
       "       [ 1., 15.]])"
      ]
     },
     "execution_count": 56,
     "metadata": {},
     "output_type": "execute_result"
    }
   ],
   "source": [
    "A = np.array([np.ones(2),np.linspace(1,15,2)])\n",
    "A = A.T\n",
    "A"
   ]
  },
  {
   "cell_type": "code",
   "execution_count": 61,
   "id": "micro-portfolio",
   "metadata": {},
   "outputs": [
    {
     "data": {
      "text/plain": [
       "array([3.25221687, 0.63522142])"
      ]
     },
     "execution_count": 61,
     "metadata": {},
     "output_type": "execute_result"
    }
   ],
   "source": [
    "b = f(A[:,1])\n",
    "b"
   ]
  },
  {
   "cell_type": "code",
   "execution_count": 62,
   "id": "charitable-contamination",
   "metadata": {},
   "outputs": [
    {
     "data": {
      "text/plain": [
       "array([ 3.43914511, -0.18692825])"
      ]
     },
     "execution_count": 62,
     "metadata": {},
     "output_type": "execute_result"
    }
   ],
   "source": [
    "x = np.linalg.solve(A, b)\n",
    "x"
   ]
  },
  {
   "cell_type": "code",
   "execution_count": 69,
   "id": "congressional-triumph",
   "metadata": {},
   "outputs": [
    {
     "data": {
      "text/plain": [
       "[<matplotlib.lines.Line2D at 0x125505fd0>]"
      ]
     },
     "execution_count": 69,
     "metadata": {},
     "output_type": "execute_result"
    },
    {
     "data": {
      "image/png": "[encoded data removed]",
      "text/plain": [
       "<Figure size 432x288 with 1 Axes>"
      ]
     },
     "metadata": {
      "needs_background": "light"
     },
     "output_type": "display_data"
    }
   ],
   "source": [
    "plt.plot(np.arange(1.0,16.0),f(np.arange(1.0,16.0)))\n",
    "plt.show()"
   ]
  },
  {
   "cell_type": "code",
   "execution_count": 71,
   "id": "disciplinary-healthcare",
   "metadata": {
    "scrolled": true
   },
   "outputs": [
    {
     "data": {
      "image/png": "[encoded data removed]",
      "text/plain": [
       "<Figure size 432x288 with 1 Axes>"
      ]
     },
     "metadata": {
      "needs_background": "light"
     },
     "output_type": "display_data"
    }
   ],
   "source": [
    "plt.plot(A[:,1],b)\n",
    "plt.plot(np.arange(1.0,16.0),f(np.arange(1.0,16.0)))\n",
    "plt.show()"
   ]
  },
  {
   "cell_type": "code",
   "execution_count": 89,
   "id": "leading-moral",
   "metadata": {},
   "outputs": [
    {
     "data": {
      "text/plain": [
       "array([[  1.,   1.,   1.],\n",
       "       [  1.,   8.,  64.],\n",
       "       [  1.,  15., 225.]])"
      ]
     },
     "execution_count": 89,
     "metadata": {},
     "output_type": "execute_result"
    }
   ],
   "source": [
    "A_ = np.array([np.ones(3),[1,8,15],[1, 8**2, 15**2] ])\n",
    "A_ = A_.T\n",
    "A_"
   ]
  },
  {
   "cell_type": "code",
   "execution_count": 90,
   "id": "minus-uniform",
   "metadata": {},
   "outputs": [
    {
     "data": {
      "text/plain": [
       "array([3.25221687, 2.31617016, 0.63522142])"
      ]
     },
     "execution_count": 90,
     "metadata": {},
     "output_type": "execute_result"
    }
   ],
   "source": [
    "b_ = f(A_[:,1])\n",
    "b_ = b_.T\n",
    "b_"
   ]
  },
  {
   "cell_type": "code",
   "execution_count": 91,
   "id": "joined-flesh",
   "metadata": {},
   "outputs": [
    {
     "data": {
      "text/plain": [
       "array([ 3.32512949, -0.06531159, -0.00760104])"
      ]
     },
     "execution_count": 91,
     "metadata": {},
     "output_type": "execute_result"
    }
   ],
   "source": [
    "x = np.linalg.solve(A_, b_.T)\n",
    "x"
   ]
  },
  {
   "cell_type": "code",
   "execution_count": 92,
   "id": "crude-testimony",
   "metadata": {},
   "outputs": [
    {
     "data": {
      "image/png": "[encoded data removed]",
      "text/plain": [
       "<Figure size 432x288 with 1 Axes>"
      ]
     },
     "metadata": {
      "needs_background": "light"
     },
     "output_type": "display_data"
    }
   ],
   "source": [
    "plt.plot(A[:,1],b)\n",
    "plt.plot(A_[:,1],b_)\n",
    "plt.plot(np.arange(1.0,16.0),f(np.arange(1.0,16.0)))\n",
    "plt.show()"
   ]
  },
  {
   "cell_type": "code",
   "execution_count": 97,
   "id": "adjacent-apple",
   "metadata": {},
   "outputs": [
    {
     "data": {
      "text/plain": [
       "array([[1.000e+00, 1.000e+00, 1.000e+00, 1.000e+00],\n",
       "       [1.000e+00, 4.000e+00, 1.600e+01, 6.400e+01],\n",
       "       [1.000e+00, 1.000e+01, 1.000e+02, 1.000e+03],\n",
       "       [1.000e+00, 1.500e+01, 2.250e+02, 3.375e+03]])"
      ]
     },
     "execution_count": 97,
     "metadata": {},
     "output_type": "execute_result"
    }
   ],
   "source": [
    "A_1 = np.array([np.ones(4),[1,4,10,15],[1,4**2,10**2,15**2],[1,4**3,10**3,15**3]])\n",
    "A_1 = A_1.T\n",
    "A_1"
   ]
  },
  {
   "cell_type": "code",
   "execution_count": 98,
   "id": "focal-nursery",
   "metadata": {},
   "outputs": [
    {
     "data": {
      "text/plain": [
       "array([3.25221687, 1.74684595, 2.50541641, 0.63522142])"
      ]
     },
     "execution_count": 98,
     "metadata": {},
     "output_type": "execute_result"
    }
   ],
   "source": [
    "b_1 = f(A_1[:,1])\n",
    "b_1 = b_1.T\n",
    "b_1"
   ]
  },
  {
   "cell_type": "code",
   "execution_count": 99,
   "id": "greatest-hours",
   "metadata": {},
   "outputs": [
    {
     "data": {
      "text/plain": [
       "array([ 4.36264154, -1.29552587,  0.19333685, -0.00823565])"
      ]
     },
     "execution_count": 99,
     "metadata": {},
     "output_type": "execute_result"
    }
   ],
   "source": [
    "x = np.linalg.solve(A_1, b_1.T)\n",
    "x"
   ]
  },
  {
   "cell_type": "code",
   "execution_count": 100,
   "id": "likely-purple",
   "metadata": {},
   "outputs": [
    {
     "data": {
      "image/png": "[encoded data removed]",
      "text/plain": [
       "<Figure size 432x288 with 1 Axes>"
      ]
     },
     "metadata": {
      "needs_background": "light"
     },
     "output_type": "display_data"
    }
   ],
   "source": [
    "plt.plot(A[:,1],b)\n",
    "plt.plot(A_[:,1],b_)\n",
    "plt.plot(A_1[:,1],b_1)\n",
    "plt.plot(np.arange(1.0,16.0),f(np.arange(1.0,16.0)))\n",
    "plt.show()"
   ]
  },
  {
   "cell_type": "markdown",
   "id": "tested-christian",
   "metadata": {},
   "source": [
    "# HW_2"
   ]
  },
  {
   "cell_type": "code",
   "execution_count": 117,
   "id": "conscious-arctic",
   "metadata": {},
   "outputs": [],
   "source": [
    "import numpy as np\n",
    "import re\n",
    "import pandas as pd\n",
    "from scipy.optimize import minimize, differential_evolution\n",
    "from scipy.spatial.distance import cosine\n",
    "from math import sin, cos, exp\n",
    "import matplotlib.pyplot as plt"
   ]
  },
  {
   "cell_type": "markdown",
   "id": "iraqi-training",
   "metadata": {},
   "source": [
    "## EX1"
   ]
  },
  {
   "cell_type": "code",
   "execution_count": 101,
   "id": "impressive-adoption",
   "metadata": {},
   "outputs": [],
   "source": [
    "def f(x):\n",
    "    return np.sin(x / 5) * np.exp(x / 10) + 5 * np.exp(-x / 2)"
   ]
  },
  {
   "cell_type": "code",
   "execution_count": 112,
   "id": "interested-birth",
   "metadata": {},
   "outputs": [
    {
     "data": {
      "text/plain": [
       "      fun: -11.503580741169603\n",
       " hess_inv: array([[49.07083657]])\n",
       "      jac: array([-0.6282866])\n",
       "  message: 'Desired error not necessarily achieved due to precision loss.'\n",
       "     nfev: 44\n",
       "      nit: 1\n",
       "     njev: 19\n",
       "   status: 2\n",
       "  success: False\n",
       "        x: array([24.67766107])"
      ]
     },
     "execution_count": 112,
     "metadata": {},
     "output_type": "execute_result"
    }
   ],
   "source": [
    "minimize(f, np.array([15]))"
   ]
  },
  {
   "cell_type": "code",
   "execution_count": 114,
   "id": "academic-reminder",
   "metadata": {},
   "outputs": [
    {
     "data": {
      "text/plain": [
       "      fun: 1.745268290344928\n",
       " hess_inv: array([[5.98750711]])\n",
       "      jac: array([-2.05636024e-06])\n",
       "  message: 'Optimization terminated successfully.'\n",
       "     nfev: 14\n",
       "      nit: 6\n",
       "     njev: 7\n",
       "   status: 0\n",
       "  success: True\n",
       "        x: array([4.13627619])"
      ]
     },
     "execution_count": 114,
     "metadata": {},
     "output_type": "execute_result"
    }
   ],
   "source": [
    "minimize(f, np.array([2]),method = 'BFGS')"
   ]
  },
  {
   "cell_type": "code",
   "execution_count": 115,
   "id": "missing-thickness",
   "metadata": {},
   "outputs": [
    {
     "data": {
      "text/plain": [
       "1.745268290344923"
      ]
     },
     "execution_count": 115,
     "metadata": {},
     "output_type": "execute_result"
    }
   ],
   "source": [
    "f(4.13627619)"
   ]
  },
  {
   "cell_type": "code",
   "execution_count": 116,
   "id": "plastic-celtic",
   "metadata": {},
   "outputs": [
    {
     "data": {
      "text/plain": [
       "      fun: -11.898894665981322\n",
       " hess_inv: array([[1.67940841]])\n",
       "      jac: array([0.])\n",
       "  message: 'Optimization terminated successfully.'\n",
       "     nfev: 14\n",
       "      nit: 6\n",
       "     njev: 7\n",
       "   status: 0\n",
       "  success: True\n",
       "        x: array([25.880193])"
      ]
     },
     "execution_count": 116,
     "metadata": {},
     "output_type": "execute_result"
    }
   ],
   "source": [
    "minimize(f, np.array([30]),method = 'BFGS')"
   ]
  },
  {
   "cell_type": "code",
   "execution_count": 109,
   "id": "entitled-seeker",
   "metadata": {},
   "outputs": [
    {
     "data": {
      "image/png": "[encoded data removed]",
      "text/plain": [
       "<Figure size 432x288 with 1 Axes>"
      ]
     },
     "metadata": {
      "needs_background": "light"
     },
     "output_type": "display_data"
    }
   ],
   "source": [
    "plt.plot(np.arange(1.0,31.0),f(np.arange(1.0,31.0)))\n",
    "plt.show()"
   ]
  },
  {
   "cell_type": "markdown",
   "id": "million-quilt",
   "metadata": {},
   "source": [
    "## EX 2"
   ]
  },
  {
   "cell_type": "code",
   "execution_count": 118,
   "id": "wicked-particle",
   "metadata": {},
   "outputs": [
    {
     "data": {
      "text/plain": [
       "     fun: array([-11.89889467])\n",
       "     jac: array([-1.77635669e-07])\n",
       " message: 'Optimization terminated successfully.'\n",
       "    nfev: 98\n",
       "     nit: 5\n",
       " success: True\n",
       "       x: array([25.88019284])"
      ]
     },
     "execution_count": 118,
     "metadata": {},
     "output_type": "execute_result"
    }
   ],
   "source": [
    "differential_evolution(f, [(1,30)])"
   ]
  },
  {
   "cell_type": "markdown",
   "id": "macro-balance",
   "metadata": {},
   "source": [
    "## EX 3"
   ]
  },
  {
   "cell_type": "code",
   "execution_count": 122,
   "id": "major-bishop",
   "metadata": {},
   "outputs": [],
   "source": [
    "def h(x):\n",
    "    return f(x).astype(int)"
   ]
  },
  {
   "cell_type": "code",
   "execution_count": 123,
   "id": "discrete-marina",
   "metadata": {},
   "outputs": [
    {
     "data": {
      "text/plain": [
       "array([ 1.,  2.,  3.,  4.,  5.,  6.,  7.,  8.,  9., 10., 11., 12., 13.,\n",
       "       14., 15., 16., 17., 18., 19., 20., 21., 22., 23., 24., 25., 26.,\n",
       "       27., 28., 29., 30.])"
      ]
     },
     "execution_count": 123,
     "metadata": {},
     "output_type": "execute_result"
    }
   ],
   "source": [
    "np.arange(1.0,31.0,1.0)"
   ]
  },
  {
   "cell_type": "code",
   "execution_count": 124,
   "id": "mental-minister",
   "metadata": {},
   "outputs": [
    {
     "data": {
      "text/plain": [
       "[<matplotlib.lines.Line2D at 0x12612f580>]"
      ]
     },
     "execution_count": 124,
     "metadata": {},
     "output_type": "execute_result"
    },
    {
     "data": {
      "image/png": "[encoded data removed]",
      "text/plain": [
       "<Figure size 432x288 with 1 Axes>"
      ]
     },
     "metadata": {
      "needs_background": "light"
     },
     "output_type": "display_data"
    }
   ],
   "source": [
    "plt.plot(np.arange(1.0,31.0,1.0),h(np.arange(1.0,31.0,1.0)))"
   ]
  },
  {
   "cell_type": "code",
   "execution_count": 125,
   "id": "alternative-spotlight",
   "metadata": {},
   "outputs": [
    {
     "data": {
      "text/plain": [
       "      fun: -5\n",
       " hess_inv: array([[1]])\n",
       "      jac: array([0.])\n",
       "  message: 'Optimization terminated successfully.'\n",
       "     nfev: 2\n",
       "      nit: 0\n",
       "     njev: 1\n",
       "   status: 0\n",
       "  success: True\n",
       "        x: array([30.])"
      ]
     },
     "execution_count": 125,
     "metadata": {},
     "output_type": "execute_result"
    }
   ],
   "source": [
    "minimize(h, 30, method='BFGS')"
   ]
  },
  {
   "cell_type": "code",
   "execution_count": 126,
   "id": "twelve-examination",
   "metadata": {},
   "outputs": [
    {
     "data": {
      "text/plain": [
       "     fun: -11.0\n",
       " message: 'Optimization terminated successfully.'\n",
       "    nfev: 77\n",
       "     nit: 4\n",
       " success: True\n",
       "       x: array([25.68881339])"
      ]
     },
     "execution_count": 126,
     "metadata": {},
     "output_type": "execute_result"
    }
   ],
   "source": [
    "differential_evolution(h, [(1,30)])"
   ]
  },
  {
   "cell_type": "code",
   "execution_count": null,
   "id": "least-subscriber",
   "metadata": {},
   "outputs": [],
   "source": []
  }
 ],
 "metadata": {
  "kernelspec": {
   "display_name": "Python 3",
   "language": "python",
   "name": "python3"
  },
  "language_info": {
   "codemirror_mode": {
    "name": "ipython",
    "version": 3
   },
   "file_extension": ".py",
   "mimetype": "text/x-python",
   "name": "python",
   "nbconvert_exporter": "python",
   "pygments_lexer": "ipython3",
   "version": "3.8.1"
  }
 },
 "nbformat": 4,
 "nbformat_minor": 5
}
