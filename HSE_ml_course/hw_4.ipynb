{
 "cells": [
  {
   "cell_type": "markdown",
   "metadata": {},
   "source": [
    "# HSE 2021: Mathematical Methods for Data Analysis\n",
    "\n",
    "## Homework 4\n",
    "\n",
    "### Attention!\n",
    "* For tasks where <ins>text answer</ins> is required **Russian language** is **allowed**.\n",
    "* If a task asks you to describe something (make coclusions) then **text answer** is **mandatory** and **is** part of the task\n",
    "* **Do not** upload the dataset to the grading system (we already have it)\n",
    "* We **only** accept **ipynb** notebooks. If you use Google Colab then you'll have to download the notebook before passing the homework\n",
    "* **Do not** use python loops instead of NumPy vector operations over NumPy vectors - it significantly decreases performance (see why https://blog.paperspace.com/numpy-optimization-vectorization-and-broadcasting/), will be punished with -0.25 for **every** task. \n",
    "\n",
    "\n",
    "### Contents\n",
    "\n",
    "#### Decision Trees - 7 points\n",
    "* [Task 1](#task1) (0.5 points)\n",
    "* [Task 2](#task2) (0.5 points)\n",
    "* [Task 3](#task3) (2 points)\n",
    "* [Task 4](#task4) (0.5 points)\n",
    "* [Task 5](#task5) (0.5 points)\n",
    "* [Task 6](#task6) (2 points)\n",
    "* [Task 7](#task7) (0.5 points)\n",
    "* [Task 8](#task8) (0.5 points)\n",
    "\n",
    "#### Ensembles - 3 points\n",
    "* [Task 1](#task2_1) (1 point)\n",
    "* [Task 2](#task2_2) (0.7 points)\n",
    "* [Task 3](#task2_3) (0.5 points)\n",
    "* [Task 4](#task2_4) (0.7 points)\n",
    "* [Task 5](#task2_5) (0.1 points)"
   ]
  },
  {
   "cell_type": "code",
   "execution_count": 3,
   "metadata": {},
   "outputs": [],
   "source": [
    "import matplotlib.pyplot as plt\n",
    "import numpy as np\n",
    "import pandas as pd\n",
    "from sklearn.model_selection import train_test_split\n",
    "\n",
    "plt.rcParams['figure.figsize'] = (11, 5)\n",
    "%matplotlib inline"
   ]
  },
  {
   "cell_type": "markdown",
   "metadata": {},
   "source": [
    "# Part 1. Decision Tree Regressor"
   ]
  },
  {
   "cell_type": "markdown",
   "metadata": {},
   "source": [
    "In this task you will be implementing decision tree for the regression by hands. "
   ]
  },
  {
   "cell_type": "markdown",
   "metadata": {},
   "source": [
    "### Task 1 <a id=\"task1\"></a> (0.5 points)\n",
    "\n",
    "Implement the function `H()` which calculates impurity criterion. We will be training regression tree, therefore, impurity criterion will be variance.\n",
    "\n",
    "* You cannot use loops\n",
    "* If `y` is empty, the function should return 0"
   ]
  },
  {
   "cell_type": "code",
   "execution_count": 2,
   "metadata": {},
   "outputs": [],
   "source": [
    "def H(y):\n",
    "    \"\"\"\n",
    "    Calculate impurity criterion\n",
    "    \n",
    "    Parameters\n",
    "    ----------\n",
    "    y : np.array\n",
    "        array of objects target values in the node\n",
    "\n",
    "    Returns\n",
    "    -------\n",
    "    H(R) : float\n",
    "        Impurity in the node (measuread by variance)\n",
    "    \"\"\"\n",
    "    return 0 if len(y) == 0 else y.var()"
   ]
  },
  {
   "cell_type": "code",
   "execution_count": 3,
   "metadata": {},
   "outputs": [],
   "source": [
    "# Test the function\n",
    "assert np.allclose(H(np.array([4,2,2, 2])), 0.75)\n",
    "assert np.allclose(H(np.array([])), 0.0)"
   ]
  },
  {
   "cell_type": "markdown",
   "metadata": {},
   "source": [
    "### Task 2 <a id=\"task2\"></a>  (0.5 points)\n",
    "\n",
    "To find the best split in the node we need to calculate the cost function. Denote: \n",
    "- `R` all the object in the node\n",
    "- `j` index of the feature selected for the split\n",
    "- `t` threshold\n",
    "- `R_l` and `R_r` objects in the left and right child nodes correspondingly\n",
    "\n",
    "We get the following cost function:\n",
    "\n",
    "$$\n",
    "Q(R, j, t) =\\frac{|R_\\ell|}{|R|}H(R_\\ell) + \\frac{|R_r|}{|R|}H(R_r) \\to \\min_{j, t},\n",
    "$$\n",
    "\n",
    "Implement the function `Q`, which should calculate value of the cost function for a given feature and threshold."
   ]
  },
  {
   "cell_type": "code",
   "execution_count": 4,
   "metadata": {},
   "outputs": [],
   "source": [
    "def Q(X, y, j, t):\n",
    "    \"\"\"\n",
    "    Calculate cost function\n",
    "    Parameters\n",
    "    ----------\n",
    "    X : ndarray\n",
    "        array of objects in the node \n",
    "    y : ndarray\n",
    "        array of target values in the node \n",
    "    j : int\n",
    "        feature index (column in X)\n",
    "    t : float\n",
    "        threshold\n",
    "\n",
    "    Returns\n",
    "    -------\n",
    "    Q : float\n",
    "        Value of the cost function\n",
    "    \"\"\"   \n",
    "    r = X.T[j] < t\n",
    "    l = X.T[j] >= t\n",
    "    Q = len(y[r])/len(y) * H(y[r]) + len(y[l])/len(y) * H(y[l])\n",
    "    return Q"
   ]
  },
  {
   "cell_type": "markdown",
   "metadata": {},
   "source": [
    "### Task 3 <a id=\"task3\"></a>  (2 points)\n",
    "\n",
    "Now, let's implement `MyDecisionTreeRegressor` class. More specifically, you need to implement the following methods:\n",
    "\n",
    "- `best_split`\n",
    "- `grow_tree`\n",
    "- `get_prediction`\n",
    "\n",
    "Read docstrings for more details. Do not forget to use function `Q` implemented above, when finding the `best_split`"
   ]
  },
  {
   "cell_type": "code",
   "execution_count": 5,
   "metadata": {},
   "outputs": [],
   "source": [
    "class Node(object):\n",
    "    \"\"\"\n",
    "    Class for a decision tree node.\n",
    "    \n",
    "    Parameters\n",
    "    ----------\n",
    "    right : Node() or None\n",
    "        Right child\n",
    "    right : Node() or None\n",
    "        Left child\n",
    "    threshold: float\n",
    "        \n",
    "    column: int\n",
    "        \n",
    "    depth: int\n",
    "        \n",
    "    prediction: float\n",
    "        prediction of the target value in the node (average values calculated on a train dataset)\n",
    "    is_terminal:bool\n",
    "        indicates whether it is a terminal node (leaf) or not\n",
    "    \"\"\"    \n",
    "    def __init__(self):        \n",
    "        self.right = None\n",
    "        self.left = None\n",
    "        self.threshold = None\n",
    "        self.column = None\n",
    "        self.depth = None\n",
    "        self.is_terminal = False\n",
    "        self.prediction = None\n",
    "        \n",
    "    def __repr__(self):\n",
    "        if self.is_terminal:\n",
    "            node_desc = 'Pred: {:.2f}'.format(self.prediction)\n",
    "        else:\n",
    "            node_desc = 'Col {}, t {:.2f}, Pred: {:.2f}'.format(self.column, self.threshold, self.prediction)\n",
    "        return node_desc"
   ]
  },
  {
   "cell_type": "code",
   "execution_count": 6,
   "metadata": {},
   "outputs": [],
   "source": [
    "from sklearn.base import BaseEstimator, RegressorMixin\n",
    "from sklearn.utils.validation import check_X_y, check_array, check_is_fitted\n",
    "\n",
    "class MyDecisionTreeRegressor(RegressorMixin, BaseEstimator):\n",
    "    \"\"\"\n",
    "    Class for a Decision Tree Regressor.\n",
    "\n",
    "    Parameters\n",
    "    ----------\n",
    "    max_depth : int\n",
    "        Max depth of a decision tree.\n",
    "    min_samples_split : int\n",
    "        Minimal number of samples (objects) in a node to make a split.\n",
    "    \"\"\" \n",
    "    def __init__(self, max_depth=3, min_samples_split=2):\n",
    "        self.max_depth = max_depth\n",
    "        self.min_samples_split = min_samples_split\n",
    "    \n",
    "    def _more_tags(self):\n",
    "        return {\n",
    "            'requires_y': False\n",
    "        }\n",
    "            \n",
    "    def best_split(self, X, y):\n",
    "        \"\"\"\n",
    "        Find the best split in terms of Q of data in a given decision tree node. \n",
    "        Try all features and thresholds. \n",
    "        \n",
    "        Parameters\n",
    "        ----------\n",
    "        X : ndarray, shape (n_objects, n_features)\n",
    "            Objects in the parent node\n",
    "        y : ndarray, shape (n_objects, )\n",
    "            1D array with the object labels. \n",
    "            \n",
    "        Returns\n",
    "        -------\n",
    "        best_split_column : int\n",
    "            Index of the best split column\n",
    "        best_threshold : float\n",
    "            The best split condition.\n",
    "        X_left : ndarray, shape (n_objects_l, n_features)\n",
    "            Objects in the left child\n",
    "        y_left : ndarray, shape (n_objects_l, )\n",
    "            Objects labels in the left child. \n",
    "        X_right : ndarray, shape (n_objects_r, n_features)\n",
    "            Objects in the right child\n",
    "        y_right : ndarray, shape (n_objects_r, )\n",
    "            Objects labels in the right child. \n",
    "        \"\"\"\n",
    "        \n",
    "        # To store best split parameters\n",
    "        best_split_column = None\n",
    "        best_threshold = None\n",
    "        # without splitting\n",
    "        best_cost = H(y) \n",
    "        \n",
    "        for index in range(X.shape[1]):\n",
    "            for row in X:\n",
    "                if (Q(X, y, index, row[index]) < best_cost or best_threshold == None):\n",
    "                    best_split_column, best_threshold = index, row[index]\n",
    "                    X_right, X_left = X[X.T[index] >= row[index]], X[X.T[index] < row[index]]\n",
    "                    y_right, y_left = y[X.T[index] >= row[index]], y[X.T[index] < row[index]]\n",
    "                    best_cost = Q(X, y, index, row[index])\n",
    "        return best_split_column, best_threshold, X_left, y_left, X_right, y_right\n",
    "    \n",
    "    def is_terminal(self, node, y):\n",
    "        \"\"\"\n",
    "        Check terminality conditions based on `max_depth` and `min_samples_split` parameters for a given node. \n",
    "        \n",
    "        Parameters\n",
    "        ----------\n",
    "        node : Node, \n",
    "            \n",
    "        y : ndarray, shape (n_objects, )\n",
    "            Object labels. \n",
    "            \n",
    "        Returns\n",
    "        -------\n",
    "        Is_termial : bool\n",
    "            If True, node is terminal\n",
    "        \"\"\"\n",
    "        if node.depth >= self.max_depth:    \n",
    "            return True\n",
    "        if len(y) < self.min_samples_split:   \n",
    "            return True\n",
    "        return False\n",
    "        \n",
    "    def grow_tree(self, node, X, y):\n",
    "        \"\"\"\n",
    "        Reccurently grow the tree from the `node` using a `X` and `y` as a dataset:\n",
    "         - check terminality conditions\n",
    "         - find best split if node is not terminal\n",
    "         - add child nodes to the node\n",
    "         - call the function recursively for the added child nodes\n",
    "        \n",
    "        Parameters\n",
    "        ----------\n",
    "        node : Node() object\n",
    "            Current node of the decision tree.\n",
    "        X : ndarray, shape (n_objects, n_features)\n",
    "            Objects \n",
    "        y : ndarray, shape (n_objects)\n",
    "            Labels\n",
    "        \"\"\"\n",
    "        \n",
    "        node.prediction = np.mean(y)\n",
    "        if self.is_terminal(node, y):\n",
    "            node.is_terminal = True\n",
    "            return\n",
    "        index, t, X_l, y_l, X_r, y_r = self.best_split(X, y)\n",
    "        if (index == None or len(y_l) == 0 or len(y_r) == 0):\n",
    "            node.is_terminal = True\n",
    "            return\n",
    "        node.left = Node()\n",
    "        node.right = Node()\n",
    "        node.left.depth = node.depth + 1\n",
    "        node.right.depth = node.depth + 1\n",
    "        node.column = index\n",
    "        node.threshold = t\n",
    "        self.grow_tree(node.left, X_l, y_l)\n",
    "        self.grow_tree(node.right, X_r, y_r)\n",
    "                \n",
    "\n",
    "    def fit(self, X, y):\n",
    "        \"\"\"\n",
    "        Fit the Decision Tree Regressor.\n",
    "            \n",
    "        Parameters\n",
    "        ----------\n",
    "        X : ndarray, shape (n_samples, n_features)\n",
    "            The input samples.\n",
    "        y : ndarray, shape (n_samples,) or (n_samples, n_outputs)\n",
    "            The target values.\n",
    "        Returns\n",
    "        -------\n",
    "        self : object\n",
    "            Returns self.\n",
    "        \"\"\"\n",
    "        # Check the input\n",
    "        if y is None:\n",
    "            raise ValueError('Y should not be None')\n",
    "        X, y = check_X_y(X, y, accept_sparse=False)\n",
    "        self.is_fitted_ = True\n",
    "        self.n_features_in_ = X.shape[1]\n",
    "        \n",
    "        # Initialize the tree (root node, depth = 0)\n",
    "        self.tree_ = Node()                             \n",
    "        self.tree_.depth = 0                            \n",
    "        self.tree_.prediction = np.mean(y)\n",
    "        \n",
    "        # Grow the tree\n",
    "        self.grow_tree(self.tree_, X, y)\n",
    "        return self        \n",
    "    \n",
    "    def get_prediction(self, node, x):\n",
    "        \"\"\"\n",
    "        Get prediction for an object `x`\n",
    "            - Return prediction of the `node` if it is terminal\n",
    "            - Otherwise, recursively call the function to get predictions of the proper child\n",
    "        \n",
    "        Parameters\n",
    "        ----------\n",
    "        node : Node() object\n",
    "            Current node of the decision tree.\n",
    "        x : ndarray, shape (n_features,)\n",
    "            Array of feature values of one object.\n",
    "        Returns\n",
    "        -------\n",
    "        y_pred : float\n",
    "            Prediction for an object x\n",
    "        \"\"\"\n",
    "        while (node.is_terminal == False):\n",
    "            if(x[node.column] < node.threshold):\n",
    "                node = node.left\n",
    "            else:\n",
    "                node = node.right\n",
    "        y_pred = node.prediction\n",
    "        return y_pred\n",
    "    \n",
    "    def predict(self, X):\n",
    "        \"\"\" \n",
    "        Get prediction for each object in X\n",
    "        \n",
    "        Parameters\n",
    "        ----------\n",
    "        X : ndarray, shape (n_samples, n_features)\n",
    "            The input samples.\n",
    "        Returns\n",
    "        -------\n",
    "        y : ndarray, shape (n_samples,)\n",
    "            Returns predictions.\n",
    "        \"\"\"\n",
    "        # Check input and that `fit` had been called\n",
    "        X = check_array(X, accept_sparse=False)\n",
    "        check_is_fitted(self, 'is_fitted_')\n",
    "        \n",
    "        # Get predictions\n",
    "        y_predicted = []\n",
    "        for x in X:\n",
    "            y_curr = self.get_prediction(self.tree_, x)\n",
    "            y_predicted.append(y_curr)\n",
    "        return np.array(y_predicted)"
   ]
  },
  {
   "cell_type": "code",
   "execution_count": 7,
   "metadata": {},
   "outputs": [],
   "source": [
    "# check yourself\n",
    "from sklearn.utils.estimator_checks import check_estimator\n",
    "\n",
    "check_estimator(MyDecisionTreeRegressor())"
   ]
  },
  {
   "cell_type": "markdown",
   "metadata": {},
   "source": [
    "### Task 4 <a id=\"task4\"></a>  (0.5 points)\n",
    "\n",
    "Load boston dataset and split it on the train ($70\\%$) and test ($30\\%$). Fit Decision Tree of depth 1 and make the following plot:\n",
    "\n",
    "- Scatter plot of the traning points (selected for split feature on the x-axis, target variable on the y-axis)\n",
    "- Fitted model \n",
    "\n",
    "P.S. Depth of the tree is equal to the longest path from the root note to the leaf. Thus, tree with depth 1 will have exactly 1 split. \n",
    "\n",
    "P.P.S. Both fitted model and the training points should be on the same plot"
   ]
  },
  {
   "cell_type": "code",
   "execution_count": 8,
   "metadata": {},
   "outputs": [
    {
     "data": {
      "text/plain": [
       "((354, 13), (152, 13), (354,), (152,))"
      ]
     },
     "execution_count": 8,
     "metadata": {},
     "output_type": "execute_result"
    }
   ],
   "source": [
    "from sklearn.datasets import load_boston\n",
    "\n",
    "X, y = load_boston(return_X_y = True)\n",
    "X_train, X_test, y_train, y_test = train_test_split(X, y, test_size = 0.3, random_state=42)\n",
    "X_train.shape, X_test.shape, y_train.shape, y_test.shape"
   ]
  },
  {
   "cell_type": "code",
   "execution_count": 9,
   "metadata": {},
   "outputs": [
    {
     "data": {
      "text/plain": [
       "MyDecisionTreeRegressor(max_depth=1)"
      ]
     },
     "execution_count": 9,
     "metadata": {},
     "output_type": "execute_result"
    }
   ],
   "source": [
    "model = MyDecisionTreeRegressor(max_depth = 1)\n",
    "model.fit(X_train, y_train)"
   ]
  },
  {
   "cell_type": "code",
   "execution_count": 13,
   "metadata": {},
   "outputs": [
    {
     "data": {
      "text/plain": [
       "Col 5, t 6.94, Pred: 23.02"
      ]
     },
     "execution_count": 13,
     "metadata": {},
     "output_type": "execute_result"
    }
   ],
   "source": [
    "t = model.tree_.threshold\n",
    "index = model.tree_.column\n",
    "model.tree_"
   ]
  },
  {
   "cell_type": "code",
   "execution_count": 14,
   "metadata": {},
   "outputs": [
    {
     "data": {
      "text/plain": [
       "Pred: 20.08"
      ]
     },
     "execution_count": 14,
     "metadata": {},
     "output_type": "execute_result"
    }
   ],
   "source": [
    "pred_l = model.tree_.left.prediction\n",
    "model.tree_.left"
   ]
  },
  {
   "cell_type": "code",
   "execution_count": 15,
   "metadata": {},
   "outputs": [
    {
     "data": {
      "text/plain": [
       "Pred: 36.82"
      ]
     },
     "execution_count": 15,
     "metadata": {},
     "output_type": "execute_result"
    }
   ],
   "source": [
    "pred_r = model.tree_.right.prediction\n",
    "model.tree_.right"
   ]
  },
  {
   "cell_type": "code",
   "execution_count": 16,
   "metadata": {},
   "outputs": [
    {
     "data": {
      "image/png": "[encoded data removed]",
      "text/plain": [
       "<Figure size 648x432 with 1 Axes>"
      ]
     },
     "metadata": {
      "needs_background": "light"
     },
     "output_type": "display_data"
    }
   ],
   "source": [
    "plt.figure(figsize=(9, 6))\n",
    "\n",
    "plt.scatter(X_train.T[index], y_train, color='black')\n",
    "plt.plot([t,t],[5,50], color = 'r',linestyle='--')\n",
    "plt.plot([3,t],[pred_l,pred_l], color = 'g',linestyle='--')\n",
    "plt.plot([t,9],[pred_r,pred_r], color = 'b',linestyle='--')\n",
    "plt.show()"
   ]
  },
  {
   "cell_type": "markdown",
   "metadata": {},
   "source": [
    "### Красная линия - критерий разделения выборки в узле\n",
    "\n",
    "### Зеленая линия - предсказание для \"левой\" части выборки (x[5] < 6.94)\n",
    "\n",
    "### Синяя линия - предсказание для \"правой\" части выборки (x[5] >= 6.94)"
   ]
  },
  {
   "cell_type": "markdown",
   "metadata": {},
   "source": [
    "### Task 5 <a id=\"task5\"></a>  (0.5 points)\n",
    "\n",
    "Keep working with boston dataset. \n",
    "- Use `GridSearchCV` to find the best hyperparameters (`max_depth` and `min_samples_split`) on 5-Fold cross-validation\n",
    "- Train the model with the best set of hyperparameters on the whole train dataset. \n",
    "- Report `RMSE` on test dataset and hyperparameters of the best estimator. "
   ]
  },
  {
   "cell_type": "code",
   "execution_count": 56,
   "metadata": {},
   "outputs": [],
   "source": [
    "from sklearn.metrics import mean_squared_error as mse\n",
    "from sklearn.model_selection import GridSearchCV"
   ]
  },
  {
   "cell_type": "code",
   "execution_count": 18,
   "metadata": {},
   "outputs": [],
   "source": [
    "def rmse(y,y_):\n",
    "    return np.sqrt(mse(y,y_))"
   ]
  },
  {
   "cell_type": "code",
   "execution_count": 117,
   "metadata": {},
   "outputs": [
    {
     "name": "stdout",
     "output_type": "stream",
     "text": [
      "Best parameters:  {'max_depth': 7, 'min_samples_split': 1}\n",
      "Predict RMSE: 3.357322354615411\n",
      "CPU times: user 9min 24s, sys: 3.32 s, total: 9min 27s\n",
      "Wall time: 9min 51s\n"
     ]
    }
   ],
   "source": [
    "%%time\n",
    "params = {\n",
    "    'max_depth': [i for i in range(1,11)],\n",
    "    'min_samples_split': [i for i in range(1,11)]\n",
    "}\n",
    "\n",
    "clf = GridSearchCV(MyDecisionTreeRegressor(), params, scoring = 'neg_mean_squared_error', cv = 5)\n",
    "clf.fit(X_train, y_train)\n",
    "predict = clf.predict(X_test)\n",
    "\n",
    "print('Best parameters: ', clf.best_params_)\n",
    "print('Predict RMSE:', rmse(y_test, predict))"
   ]
  },
  {
   "cell_type": "markdown",
   "metadata": {},
   "source": [
    "### Task 6 <a id=\"task6\"></a>  (2 points)\n",
    "\n",
    "Recall definition of bias and variance:\n",
    "$$\n",
    "\\text{Bias}^2 = \\mathbb{E}_{p(x, y)} \\left[  (f(x) - \\mathbb{E}_{\\mathbb{X}}a_{\\mathbb{X}}(x))^2 \\right] \\\\\n",
    "\\text{Variance} = \\mathbb{E}_{p(x, y)} \\left[  \\mathbb{V}_{\\mathbb{X}}( a_{\\mathbb{X}}(x))  \\right]\n",
    "$$\n",
    "\n",
    "We wil now use use the following algorithm to estimate bias^2 and variance:\n",
    "\n",
    "1. Use bootsrap to create `n_iter` samples from the original dataset: $X_1, \\dots, X_{n\\_iter}$. Each $X_i$ has $N$ observations (randomly selected from the original dataset with replacement)\n",
    "2. For each bootstrapped sample define out-of-bag (OOB) sample $Z_1, \\dots, Z_{n\\_iter}$, which contains all the observations, which did not appear in the corresponding boostraped sample\n",
    "3. Fit the model on observations from $X_i$s and compute predictions on points from $Z_i$s\n",
    "4. For a given *object* $x_n$:\n",
    "     - bias^2: squared difference between true value $y_n$ and average prediction (average over the algorithms, for which $x_n$ was in OOB)\n",
    "     - variance: variance of the predictions (predictions of the algorithms, for which $x_n$ was in OOB)\n",
    "5. Average bias^2 and variance over all the points\n",
    "\n",
    "\n",
    "**Consider a toy example.** You are given a dataset with 5 observations: $((x_1 ,y_1), (x_2, y_2), (x_3, y_3), (x_4, y_4), (x_5, y_5))$, where $x_i$ is a vector of features, $y_i$ is a target variable . And choose `n_iter` to be 3. \n",
    "* Example of bootstrapped samples:\n",
    "$$X_1 = (x_2, x_5, x_2, x_3, x_2, x_5)$$\n",
    "$$X_2 = (x_5, x_2, x_4, x_4, x_1, x_5)$$\n",
    "$$X_3 = (x_1, x_3, x_1, x_4, x_3, x_1)$$\n",
    "\n",
    "* Corresponding OOB samples:\n",
    "$$Z_1 = (x_1, x_4)$$\n",
    "$$Z_2 = (x_3)$$\n",
    "$$Z_3 = (x_2, x_5)$$\n",
    "\n",
    "* Fit models using $X_1$, $X_2$ and $X_3$ as training data. Use 1st model to make predictions for points from $Z_1$, second - for $Z_2$, etc. and use these predictions to estimate bias and variance. \n",
    "\n",
    "    \n",
    "**Implement `get_bias_variance` function, using the algorithm above**\n",
    "\n",
    "*Note:*  You can only use 1 loop (for bootsrap iterations `n_iter`). All other operations should be vectorized. \n",
    "\n",
    "P.S. These numpy functions might be usefull here `np.nanmean`, `np.nanstd` (but you are not obliged to use them). "
   ]
  },
  {
   "cell_type": "code",
   "execution_count": 21,
   "metadata": {},
   "outputs": [],
   "source": [
    "import random"
   ]
  },
  {
   "cell_type": "code",
   "execution_count": 148,
   "metadata": {},
   "outputs": [],
   "source": [
    "def f(row, idx):\n",
    "    if(int(row) not in idx):\n",
    "        return row"
   ]
  },
  {
   "cell_type": "code",
   "execution_count": 230,
   "metadata": {},
   "outputs": [],
   "source": [
    "def get_bias_variance(estimator, x, y, n_iter):\n",
    "    \"\"\" \n",
    "    Calculate bias^2 and variance of the `estimator`. Using a given dataset and bootstrap with `n_iter` samples. \n",
    "\n",
    "    Parameters\n",
    "    ----------\n",
    "    x : ndarray, shape (n_samples, n_features)\n",
    "        The input samples.\n",
    "    y : ndarray, shape (n_samples, n_features)\n",
    "        The input samples.\n",
    "    n_iter: int\n",
    "        Number of samples in \n",
    "    Returns\n",
    "    -------\n",
    "    bias2 : float, \n",
    "        Estiamted squared bias\n",
    "    variance : float, \n",
    "        Estiamted variance\n",
    "    \"\"\"\n",
    "    data = pd.DataFrame(x)\n",
    "    data[-1] = y\n",
    "    data['index'] = list(range(data.shape[0]))\n",
    "    predictions_test = np.empty((len(x), 1))\n",
    "    predictions_test[:] = np.nan\n",
    "    for i in range(n_iter):\n",
    "        train_idx = np.random.randint(0, data.shape[0] , int(data.shape[0]))\n",
    "        train_data = data.loc[train_idx,:]\n",
    "        test_idx = data['index'].apply(lambda row: f(row, train_idx))\n",
    "        test_idx = list(test_idx[test_idx.isna() == False].astype('int32'))\n",
    "        test_data = data.loc[test_idx,:]\n",
    "        X_ = np.array(train_data.loc[:,:-1])\n",
    "        y_ = train_data.loc[:,-1]\n",
    "        model = estimator.fit(X_, y_)\n",
    "        prediction = model.predict(np.array(test_data.loc[:,:-1]))\n",
    "        pred = np.empty(len(x))\n",
    "        pred[:] = np.nan\n",
    "        np.put(pred, test_idx, prediction)\n",
    "        predictions_test = np.column_stack((predictions_test, pred)) \n",
    "    predictions_test = np.delete(predictions_test, 1, axis = 1)\n",
    "    y_test_predict_mean = np.nanmean(predictions_test, axis = 1)\n",
    "    var = np.nanvar(predictions_test, axis = 1)\n",
    "    bias2 = (y - y_test_predict_mean) ** 2\n",
    "    return np.nanmean(bias2), np.nanmean(var)"
   ]
  },
  {
   "cell_type": "code",
   "execution_count": 231,
   "metadata": {},
   "outputs": [
    {
     "name": "stdout",
     "output_type": "stream",
     "text": [
      "CPU times: user 17.8 s, sys: 171 ms, total: 17.9 s\n",
      "Wall time: 18.7 s\n"
     ]
    },
    {
     "name": "stderr",
     "output_type": "stream",
     "text": [
      "<ipython-input-230-0d3f9a832bd8>:40: RuntimeWarning: Mean of empty slice\n",
      "  y_test_predict_mean = np.nanmean(predictions_test, axis = 1)\n",
      "<ipython-input-230-0d3f9a832bd8>:41: RuntimeWarning: Degrees of freedom <= 0 for slice.\n",
      "  var = np.nanvar(predictions_test, axis = 1)\n"
     ]
    },
    {
     "data": {
      "text/plain": [
       "(0.3201549233988078, 0.13351599589359214)"
      ]
     },
     "execution_count": 231,
     "metadata": {},
     "output_type": "execute_result"
    }
   ],
   "source": [
    "%%time\n",
    "# Test\n",
    "estimator = MyDecisionTreeRegressor(max_depth=8, min_samples_split=15)\n",
    "\n",
    "get_bias_variance(estimator, X_train, y_train, 10)"
   ]
  },
  {
   "cell_type": "markdown",
   "metadata": {},
   "source": [
    "### Task 7 <a id=\"task7\"></a>  (0.5 points = 0.25 for code + 0.25 for comments)\n",
    "\n",
    "Compute bias and variance for the trees of different depths. Plot how bias and variance change as depth increases. \n",
    "\n",
    "Comment on what you observe, how does your result correspond to what we have discussed in class?"
   ]
  },
  {
   "cell_type": "code",
   "execution_count": 236,
   "metadata": {},
   "outputs": [
    {
     "name": "stderr",
     "output_type": "stream",
     "text": [
      "<ipython-input-230-0d3f9a832bd8>:40: RuntimeWarning: Mean of empty slice\n",
      "  y_test_predict_mean = np.nanmean(predictions_test, axis = 1)\n",
      "<ipython-input-230-0d3f9a832bd8>:41: RuntimeWarning: Degrees of freedom <= 0 for slice.\n",
      "  var = np.nanvar(predictions_test, axis = 1)\n",
      "<ipython-input-230-0d3f9a832bd8>:40: RuntimeWarning: Mean of empty slice\n",
      "  y_test_predict_mean = np.nanmean(predictions_test, axis = 1)\n",
      "<ipython-input-230-0d3f9a832bd8>:41: RuntimeWarning: Degrees of freedom <= 0 for slice.\n",
      "  var = np.nanvar(predictions_test, axis = 1)\n",
      "<ipython-input-230-0d3f9a832bd8>:40: RuntimeWarning: Mean of empty slice\n",
      "  y_test_predict_mean = np.nanmean(predictions_test, axis = 1)\n",
      "<ipython-input-230-0d3f9a832bd8>:41: RuntimeWarning: Degrees of freedom <= 0 for slice.\n",
      "  var = np.nanvar(predictions_test, axis = 1)\n",
      "<ipython-input-230-0d3f9a832bd8>:40: RuntimeWarning: Mean of empty slice\n",
      "  y_test_predict_mean = np.nanmean(predictions_test, axis = 1)\n",
      "<ipython-input-230-0d3f9a832bd8>:41: RuntimeWarning: Degrees of freedom <= 0 for slice.\n",
      "  var = np.nanvar(predictions_test, axis = 1)\n",
      "<ipython-input-230-0d3f9a832bd8>:40: RuntimeWarning: Mean of empty slice\n",
      "  y_test_predict_mean = np.nanmean(predictions_test, axis = 1)\n",
      "<ipython-input-230-0d3f9a832bd8>:41: RuntimeWarning: Degrees of freedom <= 0 for slice.\n",
      "  var = np.nanvar(predictions_test, axis = 1)\n",
      "<ipython-input-230-0d3f9a832bd8>:40: RuntimeWarning: Mean of empty slice\n",
      "  y_test_predict_mean = np.nanmean(predictions_test, axis = 1)\n",
      "<ipython-input-230-0d3f9a832bd8>:41: RuntimeWarning: Degrees of freedom <= 0 for slice.\n",
      "  var = np.nanvar(predictions_test, axis = 1)\n",
      "<ipython-input-230-0d3f9a832bd8>:40: RuntimeWarning: Mean of empty slice\n",
      "  y_test_predict_mean = np.nanmean(predictions_test, axis = 1)\n",
      "<ipython-input-230-0d3f9a832bd8>:41: RuntimeWarning: Degrees of freedom <= 0 for slice.\n",
      "  var = np.nanvar(predictions_test, axis = 1)\n",
      "<ipython-input-230-0d3f9a832bd8>:40: RuntimeWarning: Mean of empty slice\n",
      "  y_test_predict_mean = np.nanmean(predictions_test, axis = 1)\n",
      "<ipython-input-230-0d3f9a832bd8>:41: RuntimeWarning: Degrees of freedom <= 0 for slice.\n",
      "  var = np.nanvar(predictions_test, axis = 1)\n",
      "<ipython-input-230-0d3f9a832bd8>:40: RuntimeWarning: Mean of empty slice\n",
      "  y_test_predict_mean = np.nanmean(predictions_test, axis = 1)\n",
      "<ipython-input-230-0d3f9a832bd8>:41: RuntimeWarning: Degrees of freedom <= 0 for slice.\n",
      "  var = np.nanvar(predictions_test, axis = 1)\n",
      "<ipython-input-230-0d3f9a832bd8>:40: RuntimeWarning: Mean of empty slice\n",
      "  y_test_predict_mean = np.nanmean(predictions_test, axis = 1)\n",
      "<ipython-input-230-0d3f9a832bd8>:41: RuntimeWarning: Degrees of freedom <= 0 for slice.\n",
      "  var = np.nanvar(predictions_test, axis = 1)\n"
     ]
    },
    {
     "data": {
      "image/png": "[encoded data removed]",
      "text/plain": [
       "<Figure size 648x432 with 1 Axes>"
      ]
     },
     "metadata": {
      "needs_background": "light"
     },
     "output_type": "display_data"
    }
   ],
   "source": [
    "labels = list(range(1,11))\n",
    "bias2 = []\n",
    "var = []\n",
    "for i in range(1,11):\n",
    "    #print(i)\n",
    "    estimator = MyDecisionTreeRegressor(max_depth=i, min_samples_split=3)\n",
    "    res = get_bias_variance(estimator, X_train, y_train, 10)\n",
    "    bias2.append(res[0])\n",
    "    var.append(res[1])\n",
    "    \n",
    "plt.figure(figsize=(9, 6))\n",
    "plt.plot(labels,bias2, color = 'r',linestyle='--')\n",
    "plt.plot(labels,var, color = 'g',linestyle='--')\n",
    "plt.show()"
   ]
  },
  {
   "cell_type": "markdown",
   "metadata": {},
   "source": [
    "Смещение (красная линия) стремительно уменьшается с увеличением глубины. Все верно - точность модели увеличивается с увеличеснием глубины.\n",
    "\n",
    "Разброс (зеленая линия) - должен увеличиватсья вместе с глубиной. Но этого не происходит."
   ]
  },
  {
   "cell_type": "markdown",
   "metadata": {},
   "source": [
    "### Task 8 <a id=\"task8\"></a>  (0.5 points = 0.25 for code + 0.25 for comments)\n",
    "\n",
    "Let's try to reduce variance with bagging. Use `sklearn.ensemble.BaggingRegressor` to get an ensemble and compute its bias and variance. \n",
    "\n",
    "Answer the following questions:\n",
    " - How bagging should affect bias and variance in theory?\n",
    " - How bias and variance change (if they change) compared to an individual tree in you experiments? \n",
    " - Do your results align with the theory? Why?"
   ]
  },
  {
   "cell_type": "code",
   "execution_count": 238,
   "metadata": {},
   "outputs": [
    {
     "name": "stderr",
     "output_type": "stream",
     "text": [
      "<ipython-input-230-0d3f9a832bd8>:40: RuntimeWarning: Mean of empty slice\n",
      "  y_test_predict_mean = np.nanmean(predictions_test, axis = 1)\n",
      "<ipython-input-230-0d3f9a832bd8>:41: RuntimeWarning: Degrees of freedom <= 0 for slice.\n",
      "  var = np.nanvar(predictions_test, axis = 1)\n"
     ]
    },
    {
     "data": {
      "text/plain": [
       "(0.2672196123947847, 0.059609328624241016)"
      ]
     },
     "execution_count": 238,
     "metadata": {},
     "output_type": "execute_result"
    }
   ],
   "source": [
    "from sklearn.ensemble import BaggingRegressor\n",
    "\n",
    "model = BaggingRegressor(base_estimator=MyDecisionTreeRegressor(max_depth=8, min_samples_split=15), n_estimators= 12, random_state=12345)\n",
    "\n",
    "get_bias_variance(model, X_train, y_train, n_iter=10)"
   ]
  },
  {
   "cell_type": "markdown",
   "metadata": {},
   "source": [
    "- В теории bagging должен уменьшать дисперсию и не увеличивать смещение (не менятть его)\n",
    "- Дисперсия уменьшилась в 2,6 раза. Разброс тоже уменьшился, но незначительно\n",
    "- В целом результаты совпадают с теорией, за исключением незначительного уменьшения смещения (изменение около 15%) и то в сторону увеличения точности модели\n",
    "\n",
    "Свою задачу bagging выполняет"
   ]
  },
  {
   "cell_type": "markdown",
   "metadata": {},
   "source": [
    "# Part 2. More Ensembles"
   ]
  },
  {
   "cell_type": "markdown",
   "metadata": {},
   "source": [
    "In this part we will be working with [Thyroid Disease Data Set](https://archive.ics.uci.edu/ml/datasets/thyroid+disease) to solve a classification task. "
   ]
  },
  {
   "cell_type": "code",
   "execution_count": 4,
   "metadata": {},
   "outputs": [
    {
     "data": {
      "text/html": [
       "<div>\n",
       "<style scoped>\n",
       "    .dataframe tbody tr th:only-of-type {\n",
       "        vertical-align: middle;\n",
       "    }\n",
       "\n",
       "    .dataframe tbody tr th {\n",
       "        vertical-align: top;\n",
       "    }\n",
       "\n",
       "    .dataframe thead th {\n",
       "        text-align: right;\n",
       "    }\n",
       "</style>\n",
       "<table border=\"1\" class=\"dataframe\">\n",
       "  <thead>\n",
       "    <tr style=\"text-align: right;\">\n",
       "      <th></th>\n",
       "      <th>age</th>\n",
       "      <th>sex</th>\n",
       "      <th>on_thyroxine</th>\n",
       "      <th>query_on_thyroxine</th>\n",
       "      <th>on_antithyroid_medication</th>\n",
       "      <th>sick</th>\n",
       "      <th>pregnant</th>\n",
       "      <th>thyroid_surgery</th>\n",
       "      <th>I131_treatment</th>\n",
       "      <th>query_hypothyroid</th>\n",
       "      <th>...</th>\n",
       "      <th>T3</th>\n",
       "      <th>TT4_measured</th>\n",
       "      <th>TT4</th>\n",
       "      <th>T4U_measured</th>\n",
       "      <th>T4U</th>\n",
       "      <th>FTI_measured</th>\n",
       "      <th>FTI</th>\n",
       "      <th>TBG_measured</th>\n",
       "      <th>TBG</th>\n",
       "      <th>referral_source</th>\n",
       "    </tr>\n",
       "  </thead>\n",
       "  <tbody>\n",
       "    <tr>\n",
       "      <th>0</th>\n",
       "      <td>41.0</td>\n",
       "      <td>F</td>\n",
       "      <td>f</td>\n",
       "      <td>f</td>\n",
       "      <td>f</td>\n",
       "      <td>f</td>\n",
       "      <td>f</td>\n",
       "      <td>f</td>\n",
       "      <td>f</td>\n",
       "      <td>f</td>\n",
       "      <td>...</td>\n",
       "      <td>2.5</td>\n",
       "      <td>t</td>\n",
       "      <td>125.0</td>\n",
       "      <td>t</td>\n",
       "      <td>1.14</td>\n",
       "      <td>t</td>\n",
       "      <td>109.0</td>\n",
       "      <td>f</td>\n",
       "      <td>NaN</td>\n",
       "      <td>SVHC</td>\n",
       "    </tr>\n",
       "    <tr>\n",
       "      <th>1</th>\n",
       "      <td>23.0</td>\n",
       "      <td>F</td>\n",
       "      <td>f</td>\n",
       "      <td>f</td>\n",
       "      <td>f</td>\n",
       "      <td>f</td>\n",
       "      <td>f</td>\n",
       "      <td>f</td>\n",
       "      <td>f</td>\n",
       "      <td>f</td>\n",
       "      <td>...</td>\n",
       "      <td>2.0</td>\n",
       "      <td>t</td>\n",
       "      <td>102.0</td>\n",
       "      <td>f</td>\n",
       "      <td>NaN</td>\n",
       "      <td>f</td>\n",
       "      <td>NaN</td>\n",
       "      <td>f</td>\n",
       "      <td>NaN</td>\n",
       "      <td>other</td>\n",
       "    </tr>\n",
       "    <tr>\n",
       "      <th>2</th>\n",
       "      <td>46.0</td>\n",
       "      <td>M</td>\n",
       "      <td>f</td>\n",
       "      <td>f</td>\n",
       "      <td>f</td>\n",
       "      <td>f</td>\n",
       "      <td>f</td>\n",
       "      <td>f</td>\n",
       "      <td>f</td>\n",
       "      <td>f</td>\n",
       "      <td>...</td>\n",
       "      <td>NaN</td>\n",
       "      <td>t</td>\n",
       "      <td>109.0</td>\n",
       "      <td>t</td>\n",
       "      <td>0.91</td>\n",
       "      <td>t</td>\n",
       "      <td>120.0</td>\n",
       "      <td>f</td>\n",
       "      <td>NaN</td>\n",
       "      <td>other</td>\n",
       "    </tr>\n",
       "    <tr>\n",
       "      <th>3</th>\n",
       "      <td>70.0</td>\n",
       "      <td>F</td>\n",
       "      <td>t</td>\n",
       "      <td>f</td>\n",
       "      <td>f</td>\n",
       "      <td>f</td>\n",
       "      <td>f</td>\n",
       "      <td>f</td>\n",
       "      <td>f</td>\n",
       "      <td>f</td>\n",
       "      <td>...</td>\n",
       "      <td>1.9</td>\n",
       "      <td>t</td>\n",
       "      <td>175.0</td>\n",
       "      <td>f</td>\n",
       "      <td>NaN</td>\n",
       "      <td>f</td>\n",
       "      <td>NaN</td>\n",
       "      <td>f</td>\n",
       "      <td>NaN</td>\n",
       "      <td>other</td>\n",
       "    </tr>\n",
       "    <tr>\n",
       "      <th>4</th>\n",
       "      <td>70.0</td>\n",
       "      <td>F</td>\n",
       "      <td>f</td>\n",
       "      <td>f</td>\n",
       "      <td>f</td>\n",
       "      <td>f</td>\n",
       "      <td>f</td>\n",
       "      <td>f</td>\n",
       "      <td>f</td>\n",
       "      <td>f</td>\n",
       "      <td>...</td>\n",
       "      <td>1.2</td>\n",
       "      <td>t</td>\n",
       "      <td>61.0</td>\n",
       "      <td>t</td>\n",
       "      <td>0.87</td>\n",
       "      <td>t</td>\n",
       "      <td>70.0</td>\n",
       "      <td>f</td>\n",
       "      <td>NaN</td>\n",
       "      <td>SVI</td>\n",
       "    </tr>\n",
       "  </tbody>\n",
       "</table>\n",
       "<p>5 rows × 29 columns</p>\n",
       "</div>"
      ],
      "text/plain": [
       "    age sex on_thyroxine query_on_thyroxine on_antithyroid_medication sick  \\\n",
       "0  41.0   F            f                  f                         f    f   \n",
       "1  23.0   F            f                  f                         f    f   \n",
       "2  46.0   M            f                  f                         f    f   \n",
       "3  70.0   F            t                  f                         f    f   \n",
       "4  70.0   F            f                  f                         f    f   \n",
       "\n",
       "  pregnant thyroid_surgery I131_treatment query_hypothyroid  ...   T3  \\\n",
       "0        f               f              f                 f  ...  2.5   \n",
       "1        f               f              f                 f  ...  2.0   \n",
       "2        f               f              f                 f  ...  NaN   \n",
       "3        f               f              f                 f  ...  1.9   \n",
       "4        f               f              f                 f  ...  1.2   \n",
       "\n",
       "  TT4_measured    TT4 T4U_measured   T4U FTI_measured    FTI  TBG_measured  \\\n",
       "0            t  125.0            t  1.14            t  109.0             f   \n",
       "1            t  102.0            f   NaN            f    NaN             f   \n",
       "2            t  109.0            t  0.91            t  120.0             f   \n",
       "3            t  175.0            f   NaN            f    NaN             f   \n",
       "4            t   61.0            t  0.87            t   70.0             f   \n",
       "\n",
       "  TBG  referral_source  \n",
       "0 NaN             SVHC  \n",
       "1 NaN            other  \n",
       "2 NaN            other  \n",
       "3 NaN            other  \n",
       "4 NaN              SVI  \n",
       "\n",
       "[5 rows x 29 columns]"
      ]
     },
     "execution_count": 4,
     "metadata": {},
     "output_type": "execute_result"
    }
   ],
   "source": [
    "from sklearn.preprocessing import LabelEncoder\n",
    "\n",
    "df = pd.read_csv('thyroid_disease.csv')\n",
    "\n",
    "le = LabelEncoder()\n",
    "y = le.fit_transform(df['Class'])\n",
    "X = df.drop('Class', axis=1)\n",
    "X.head(5)"
   ]
  },
  {
   "cell_type": "code",
   "execution_count": 5,
   "metadata": {},
   "outputs": [
    {
     "data": {
      "text/plain": [
       "(3772, 29)"
      ]
     },
     "execution_count": 5,
     "metadata": {},
     "output_type": "execute_result"
    }
   ],
   "source": [
    "X.shape"
   ]
  },
  {
   "cell_type": "markdown",
   "metadata": {},
   "source": [
    "### Task 1 <a id=\"task2_1\"></a> (1 point)\n",
    "\n",
    "Let's start with data preprocessing. \n",
    "\n",
    "0. Drop columns, which are not usefull (e.g. a lot of missing values). Motivate your choice. \n",
    "1. Split dataset into train and test\n",
    "2. You've probably noticed that we have both categorical and numerical columns. Here is what you need to do with them:\n",
    "    - Categorical: Fill missing values and apply one-hot-encoding (take a look at the argument `drop` in [documentation](https://scikit-learn.org/stable/modules/generated/sklearn.preprocessing.OneHotEncoder.html) to figure out the best way to apply OHE to binary variables)\n",
    "    - Numeric: Fill missing values\n",
    "    \n",
    "Use `ColumnTranformer` ([docs](https://scikit-learn.org/stable/modules/generated/sklearn.compose.ColumnTransformer.html#sklearn.compose.ColumnTransformer)) to define a single transformer for all the columns in the dataset. It takes as input a list of tuples\n",
    "\n",
    "```\n",
    "ColumnTransformer([\n",
    "    ('name1', transorm1, column_names1),\n",
    "    ('name2', transorm2, column_names2)\n",
    "])\n",
    "```\n",
    "\n",
    "Pay attention to an argument `remainder='passthrough'`. [Here](https://scikit-learn.org/stable/modules/compose.html#column-transformer) you can find some examples of how to use column transformer. \n",
    "    \n",
    "Since we want to apply 2 transformations to categorical feature, it is very convenient to combine them into a `Pipeline`:\n",
    "\n",
    "```\n",
    "double_transform = make_pipeline(\n",
    "                                 transform_1,\n",
    "                                 transform_2\n",
    "                                )\n",
    "```\n",
    "\n",
    "P.S. Choose your favourite way to fill missing values. \n",
    "\n",
    "*Hint* Categorical column usually have `dtype = 'object'`. This may help to obtain list of categorical and numerical columns in the dataset. "
   ]
  },
  {
   "cell_type": "code",
   "execution_count": 86,
   "metadata": {},
   "outputs": [],
   "source": [
    "from sklearn.pipeline import Pipeline\n",
    "from sklearn.compose import ColumnTransformer\n",
    "from sklearn.preprocessing import OneHotEncoder\n",
    "from sklearn.impute import SimpleImputer\n",
    "\n",
    "\n",
    "cols_to_drop = X.columns[X.isna().sum()/X.shape[0] > 1/3]\n",
    "\n",
    "X = X.drop(list(cols_to_drop), axis = 1)\n",
    "\n",
    "X_train, X_test, y_train, y_test = train_test_split(X, y, test_size = 1/3, random_state = 12345)\n",
    "\n",
    "category_pipline = Pipeline(\n",
    "    steps = [('fillna', SimpleImputer(strategy='most_frequent')),\n",
    "             ('encode', OneHotEncoder())\n",
    "            ]\n",
    ")\n",
    "\n",
    "category_cols = (X.dtypes == 'O').to_list()\n",
    "float_cols = (X.dtypes == 'float64').to_list()\n",
    "\n",
    "transformer = ColumnTransformer(\n",
    "    transformers=[\n",
    "        ('category', category_pipline, category_cols),\n",
    "        ('float', SimpleImputer(strategy='median'), float_cols)\n",
    "    ], remainder='passthrough')\n",
    "\n",
    "# Transform the data\n",
    "X_train = transformer.fit_transform(X_train)\n",
    "X_test = transformer.transform(X_test)"
   ]
  },
  {
   "cell_type": "code",
   "execution_count": 87,
   "metadata": {},
   "outputs": [
    {
     "data": {
      "text/plain": [
       "((2514, 52), (1258, 52))"
      ]
     },
     "execution_count": 87,
     "metadata": {},
     "output_type": "execute_result"
    }
   ],
   "source": [
    "X_train.shape, X_test.shape"
   ]
  },
  {
   "cell_type": "markdown",
   "metadata": {},
   "source": [
    "### Task 2 <a id=\"task2_2\"></a> (0.7 points  = 0.4 for code + 0.3 for comments)\n",
    "\n",
    "Fit and compare 5 different models (use sklearn): Gradient Boosting, Random Forest, Decision Tree, SVM, Logitics Regression\n",
    "    \n",
    "* Choose one classification metric and justify your choice .\n",
    "* Compare the models using score on cross validation. Mind the class balance when choosing the cross validation. (You can read more about different CV strategies [here](https://scikit-learn.org/stable/modules/cross_validation.html#stratified-k-fold))\n",
    "* Which model has the best performance? Which models overfit or underfit?"
   ]
  },
  {
   "cell_type": "code",
   "execution_count": 88,
   "metadata": {},
   "outputs": [],
   "source": [
    "from sklearn.svm import SVC\n",
    "from sklearn.linear_model import LogisticRegression\n",
    "from sklearn.tree import DecisionTreeClassifier\n",
    "from sklearn.ensemble import GradientBoostingClassifier, RandomForestClassifier\n",
    "from sklearn.model_selection import cross_val_score\n",
    "from sklearn.metrics import f1_score\n",
    "from sklearn.model_selection import StratifiedKFold"
   ]
  },
  {
   "cell_type": "code",
   "execution_count": 89,
   "metadata": {},
   "outputs": [
    {
     "data": {
      "text/plain": [
       "0    93.993636\n",
       "1     6.006364\n",
       "dtype: float64"
      ]
     },
     "execution_count": 89,
     "metadata": {},
     "output_type": "execute_result"
    }
   ],
   "source": [
    "pd.DataFrame(y_train).value_counts() / pd.DataFrame(y_train).shape[0] * 100"
   ]
  },
  {
   "cell_type": "markdown",
   "metadata": {},
   "source": [
    "Распределение классов в тренировочной выборке очень неравномерное (94% vs 6%). Использовать простую метрику (как accuracy) не получится - следует использовать метрику использующую полноту и точность (recall и precision) для адекватной оценки предсказания. Я буду использовать f1 меру, так как она ассимирует обе эти метрики в себе."
   ]
  },
  {
   "cell_type": "code",
   "execution_count": 90,
   "metadata": {},
   "outputs": [],
   "source": [
    "cv = StratifiedKFold(n_splits = 5)"
   ]
  },
  {
   "cell_type": "markdown",
   "metadata": {},
   "source": [
    "## RandomForestClassifier"
   ]
  },
  {
   "cell_type": "code",
   "execution_count": 91,
   "metadata": {},
   "outputs": [
    {
     "data": {
      "text/plain": [
       "array([0.8       , 0.82352941, 0.89285714, 0.85245902, 0.87272727])"
      ]
     },
     "execution_count": 91,
     "metadata": {},
     "output_type": "execute_result"
    }
   ],
   "source": [
    "forest = RandomForestClassifier(random_state = 12345)\n",
    "\n",
    "cvs = cross_val_score(forest, X_train, y_train, cv = cv, scoring = 'f1')\n",
    "cvs"
   ]
  },
  {
   "cell_type": "markdown",
   "metadata": {},
   "source": [
    "По блокам значение колеблится не слишком сильно."
   ]
  },
  {
   "cell_type": "code",
   "execution_count": 83,
   "metadata": {},
   "outputs": [
    {
     "name": "stdout",
     "output_type": "stream",
     "text": [
      "RandomForestClassifier: Train 0.834; Test 0.884\n"
     ]
    }
   ],
   "source": [
    "print(f'RandomForestClassifier: Train {cvs.mean():.3f}; Test {f1_score(y_test,forest.fit(X_train, y_train).predict(X_test)):.3f}')"
   ]
  },
  {
   "cell_type": "markdown",
   "metadata": {},
   "source": [
    "Для случайного леса значение метрики на тесте и на трейне отличается. Можно есть небольшое недообучение."
   ]
  },
  {
   "cell_type": "markdown",
   "metadata": {},
   "source": [
    "## GradientBoostingClassifier"
   ]
  },
  {
   "cell_type": "code",
   "execution_count": 92,
   "metadata": {},
   "outputs": [
    {
     "data": {
      "text/plain": [
       "array([0.89285714, 0.83018868, 0.94915254, 0.80645161, 0.88135593])"
      ]
     },
     "execution_count": 92,
     "metadata": {},
     "output_type": "execute_result"
    }
   ],
   "source": [
    "grad = GradientBoostingClassifier(random_state = 12345)\n",
    "\n",
    "cvs = cross_val_score(grad, X_train, y_train, cv = cv, scoring = 'f1')\n",
    "cvs"
   ]
  },
  {
   "cell_type": "code",
   "execution_count": 93,
   "metadata": {},
   "outputs": [
    {
     "name": "stdout",
     "output_type": "stream",
     "text": [
      "GradientBoostingClassifier: Train 0.872; Test 0.870\n"
     ]
    }
   ],
   "source": [
    "print(f'GradientBoostingClassifier: Train {cvs.mean():.3f}; Test {f1_score(y_test,grad.fit(X_train, y_train).predict(X_test)):.3f}')"
   ]
  },
  {
   "cell_type": "markdown",
   "metadata": {},
   "source": [
    "В бустинге колебания между фолдами более значительные. Но отличие метрики на трейне и тесте очень небольшое. Переобучения нет."
   ]
  },
  {
   "cell_type": "markdown",
   "metadata": {},
   "source": [
    "## DecisionTreeClassifier"
   ]
  },
  {
   "cell_type": "code",
   "execution_count": 94,
   "metadata": {},
   "outputs": [
    {
     "data": {
      "text/plain": [
       "array([0.83636364, 0.82142857, 0.87096774, 0.86153846, 0.89655172])"
      ]
     },
     "execution_count": 94,
     "metadata": {},
     "output_type": "execute_result"
    }
   ],
   "source": [
    "tree = DecisionTreeClassifier(random_state = 12345)\n",
    "\n",
    "cvs = cross_val_score(tree, X_train, y_train, cv = cv, scoring = 'f1')\n",
    "cvs"
   ]
  },
  {
   "cell_type": "code",
   "execution_count": 95,
   "metadata": {},
   "outputs": [
    {
     "name": "stdout",
     "output_type": "stream",
     "text": [
      "DecisionTreeClassifier: Train 0.857; Test 0.867\n"
     ]
    }
   ],
   "source": [
    "print(f'DecisionTreeClassifier: Train {cvs.mean():.3f}; Test {f1_score(y_test,tree.fit(X_train, y_train).predict(X_test)):.3f}')"
   ]
  },
  {
   "cell_type": "markdown",
   "metadata": {},
   "source": [
    "Дерево решений неплохо предсказывает, значительных различий на трейне и тесте нет."
   ]
  },
  {
   "cell_type": "markdown",
   "metadata": {},
   "source": [
    "## LogisticRegression"
   ]
  },
  {
   "cell_type": "code",
   "execution_count": 34,
   "metadata": {},
   "outputs": [
    {
     "data": {
      "text/plain": [
       "array([0.73684211, 0.54545455, 0.77777778, 0.53061224, 0.66666667])"
      ]
     },
     "execution_count": 34,
     "metadata": {},
     "output_type": "execute_result"
    }
   ],
   "source": [
    "log_reg = LogisticRegression(random_state = 12345, max_iter=10000)\n",
    "\n",
    "cvs = cross_val_score(log_reg, X_train, y_train, cv = cv, scoring = 'f1')\n",
    "cvs"
   ]
  },
  {
   "cell_type": "code",
   "execution_count": 35,
   "metadata": {},
   "outputs": [
    {
     "name": "stdout",
     "output_type": "stream",
     "text": [
      "LogisticRegression: Train 0.651; Test 0.662\n"
     ]
    }
   ],
   "source": [
    "print(f'LogisticRegression: Train {cvs.mean():.3f}; Test {f1_score(y_test,log_reg.fit(X_train, y_train).predict(X_test)):.3f}')"
   ]
  },
  {
   "cell_type": "markdown",
   "metadata": {},
   "source": [
    "При обучении логистической регресии возникла проблема - алгоритм не сходился. Пришлось увеличить кол-во итераций в 100 раз.\n",
    "\n",
    "Однако колебания метрики между фолдами наталкивает на мысль что алгоритм не всегда находит глобальный оптимум и застревает в локальном минимуме. Метрика на трейне и тесте отличается не сильно (хотя само значение достаточно мало п осравнению с другими алгоритмами)."
   ]
  },
  {
   "cell_type": "markdown",
   "metadata": {},
   "source": [
    "## Метод опорных векторов"
   ]
  },
  {
   "cell_type": "code",
   "execution_count": 51,
   "metadata": {},
   "outputs": [
    {
     "data": {
      "text/plain": [
       "array([0.79245283, 0.60869565, 0.80701754, 0.57692308, 0.71428571])"
      ]
     },
     "execution_count": 51,
     "metadata": {},
     "output_type": "execute_result"
    }
   ],
   "source": [
    "svc_ = SVC(random_state = 12345, kernel = 'linear')\n",
    "\n",
    "cvs = cross_val_score(svc_, X_train, y_train, cv = cv, scoring = 'f1')\n",
    "cvs"
   ]
  },
  {
   "cell_type": "code",
   "execution_count": 52,
   "metadata": {},
   "outputs": [
    {
     "name": "stdout",
     "output_type": "stream",
     "text": [
      "SVC: Train 0.700; Test 0.696\n"
     ]
    }
   ],
   "source": [
    "print(f'SVC: Train {cvs.mean():.3f}; Test {f1_score(y_test,svc_.fit(X_train, y_train).predict(X_test)):.3f}')"
   ]
  },
  {
   "cell_type": "markdown",
   "metadata": {},
   "source": [
    "Я использую svc с линейным ядром потому что с другими ядрами алгоритм начинал предсказывать как константный и recall обнулялся.\n",
    "\n",
    "Тем не менее значения метрики на разных фолдах сильно скачет, да и метрика не тесте достаточно низкая. "
   ]
  },
  {
   "cell_type": "markdown",
   "metadata": {},
   "source": [
    "Бустинг ожидаемо становится лучшей моделью с самым большим значением метрики на тесте и самым маленьким отклонением метрики на трейне и на тесте."
   ]
  },
  {
   "cell_type": "markdown",
   "metadata": {},
   "source": [
    "### Task 3 <a id=\"task2_3\"></a> (0.5 points = 0.4 for code + 0.1 for comments)\n",
    "\n",
    "More Gradient Boosting. Choose one of the three popular boosting implementations (xgboost, lightgbm, catboost). Select hyperparameters (number of trees, learning rate, depth) on cross-validation and compare with the methods from the previous task. \n",
    "\n"
   ]
  },
  {
   "cell_type": "code",
   "execution_count": 54,
   "metadata": {},
   "outputs": [],
   "source": [
    "from lightgbm import LGBMClassifier"
   ]
  },
  {
   "cell_type": "code",
   "execution_count": 62,
   "metadata": {},
   "outputs": [
    {
     "name": "stdout",
     "output_type": "stream",
     "text": [
      "Best parameters & score:  {'learning_rate': 0.2, 'max_depth': 3, 'n_estimators': 50} 0.89777356285081\n",
      "Predict f1: 0.8662420382165604\n",
      "Wall time: 5min 30s\n"
     ]
    }
   ],
   "source": [
    "%%time\n",
    "model = LGBMClassifier(random_state = 12345)\n",
    "\n",
    "params = {\n",
    "    'max_depth': list(range(2, 11)),\n",
    "    'learning_rate': [0.0001, 0.001, 0.01, 0.1, 0.2, 0.3, 0.4],\n",
    "    'n_estimators': list(range(30, 121, 5))\n",
    "}\n",
    "\n",
    "clf = GridSearchCV(model, params, scoring = 'f1', cv = cv)\n",
    "clf.fit(X_train, y_train)\n",
    "predict = clf.predict(X_test)\n",
    "\n",
    "print('Best parameters & score: ', clf.best_params_, clf.best_score_)\n",
    "print('Predict f1:', f1_score(y_test, predict))"
   ]
  },
  {
   "cell_type": "markdown",
   "metadata": {},
   "source": [
    "Перебор гиперпараметров дал нам точность предсказания почти 0.9 на стратифицированной кросс валидации.\n",
    "Предсказание на тестовой выборке осталось примерно на том же уровне точности.\n",
    "\n",
    "Вывод: если соотношение классов сохраняется в тесте то мы подобрали хорошие гиперпараметры и можем предсказать со значением метрики около 0.9\n",
    "\n",
    "Но наш тест выбран случайным образом без сохранения распределения классов, и тем не менее точность предсказания достаточно высока. Возможно есть небольшое переобучение, но найденая конфигурация алгоритма вполне сносна."
   ]
  },
  {
   "cell_type": "markdown",
   "metadata": {},
   "source": [
    "### Task 4 <a id=\"task2_4\"></a> (0.7 points = 0.4 for code + 0.3 for comments)\n",
    "\n",
    "Now let's train more fancy ensembles:\n",
    "\n",
    "* Bagging with decision trees as base estimators\n",
    "* Bagging with gradient boosting as base estimators (use large amount of trees in gradient boosting, >100)\n",
    "* [Voting classifier](https://scikit-learn.org/stable/modules/generated/sklearn.ensemble.VotingClassifier.html#sklearn.ensemble.VotingClassifier) \n",
    "* [Stacking Classifier](https://scikit-learn.org/stable/modules/generated/sklearn.ensemble.StackingClassifier.html#sklearn.ensemble.StackingClassifier) with Logistic Regression as a final model\n",
    "* [Stacking Classifier](https://scikit-learn.org/stable/modules/generated/sklearn.ensemble.StackingClassifier.html#sklearn.ensemble.StackingClassifier) with Gradeint Boosting as a final model\n",
    "\n",
    "\n",
    "If not stated in the task, feel free to tune / choose hyperparameters and base models.\n",
    "\n",
    "Answer the questions:\n",
    "* Which model has the best performance?\n",
    "* Does bagging reduce overfitting of the gradient boosting with large amount of trees? \n",
    "* What is the difference between voting and staking? "
   ]
  },
  {
   "cell_type": "markdown",
   "metadata": {},
   "source": [
    "## Bagging & decision tree"
   ]
  },
  {
   "cell_type": "code",
   "execution_count": 96,
   "metadata": {},
   "outputs": [],
   "source": [
    "from sklearn.ensemble import BaggingClassifier\n",
    "\n",
    "model = BaggingClassifier(base_estimator=DecisionTreeClassifier(random_state = 12345, max_depth=10, min_samples_split = 10), random_state=12345)"
   ]
  },
  {
   "cell_type": "code",
   "execution_count": 102,
   "metadata": {},
   "outputs": [
    {
     "name": "stdout",
     "output_type": "stream",
     "text": [
      "Best parameters & score:  {'n_estimators': 65} 0.8788873736389808\n",
      "Predict f1: 0.8903225806451613\n",
      "Wall time: 25.6 s\n"
     ]
    }
   ],
   "source": [
    "%%time\n",
    "\n",
    "params = {\n",
    "    'n_estimators': list(range(2, 101)),\n",
    "}\n",
    "\n",
    "clf = GridSearchCV(model, params, scoring = 'f1', cv = cv)\n",
    "clf.fit(X_train, y_train)\n",
    "predict = clf.predict(X_test)\n",
    "\n",
    "print('Best parameters & score: ', clf.best_params_, clf.best_score_)\n",
    "print('Predict f1:', f1_score(y_test, predict))"
   ]
  },
  {
   "cell_type": "markdown",
   "metadata": {},
   "source": [
    "Bagging творит чудеса. Даже на обычном решающем дереве удалось получить достаточно высокие значения метрики, при этом обобщающая способность модели выросла значительно. Предсказание на тестовой выборке дало точность как лучшая модель бустинга из прошлых пунктов."
   ]
  },
  {
   "cell_type": "markdown",
   "metadata": {},
   "source": [
    "## Bagging & gradient boosting"
   ]
  },
  {
   "cell_type": "code",
   "execution_count": 112,
   "metadata": {},
   "outputs": [],
   "source": [
    "model = BaggingClassifier(base_estimator= GradientBoostingClassifier(random_state = 12345,learning_rate = 0.2, max_depth = 10, n_estimators = 120), random_state=12345)"
   ]
  },
  {
   "cell_type": "code",
   "execution_count": 115,
   "metadata": {},
   "outputs": [
    {
     "name": "stdout",
     "output_type": "stream",
     "text": [
      "Best parameters & score:  {'n_estimators': 7} 0.8689505124819217\n",
      "Predict f1: 0.8765432098765432\n",
      "Wall time: 1min 23s\n"
     ]
    }
   ],
   "source": [
    "%%time\n",
    "\n",
    "params = {\n",
    "    'n_estimators': list(range(2, 10)),\n",
    "}\n",
    "\n",
    "clf = GridSearchCV(model, params, scoring = 'f1', cv = cv)\n",
    "clf.fit(X_train, y_train)\n",
    "predict = clf.predict(X_test)\n",
    "\n",
    "print('Best parameters & score: ', clf.best_params_, clf.best_score_)\n",
    "print('Predict f1:', f1_score(y_test, predict))"
   ]
  },
  {
   "cell_type": "markdown",
   "metadata": {},
   "source": [
    "Bagging увеличил обобщающую способность бустинга. Переобучения нет, предсказание на тесте выше чем на тренировочных данных."
   ]
  },
  {
   "cell_type": "markdown",
   "metadata": {},
   "source": [
    "## VotingClassifier (Gradient & Bagging DecisionTree & RandomForest)"
   ]
  },
  {
   "cell_type": "code",
   "execution_count": 116,
   "metadata": {},
   "outputs": [],
   "source": [
    "from sklearn.ensemble import VotingClassifier"
   ]
  },
  {
   "cell_type": "code",
   "execution_count": 118,
   "metadata": {},
   "outputs": [
    {
     "name": "stdout",
     "output_type": "stream",
     "text": [
      "Best parameters & score:  {'forest__criterion': 'gini', 'grad__n_estimators': 20, 'tree__n_estimators': 6} 0.8756830089063079\n",
      "Predict f1: 0.8805031446540881\n"
     ]
    }
   ],
   "source": [
    "clf1 = GradientBoostingClassifier(random_state = 12345,max_depth = 10)\n",
    "clf2 = BaggingClassifier(base_estimator=DecisionTreeClassifier(random_state = 12345, max_depth=10, min_samples_split = 10), random_state=12345)\n",
    "clf3 = RandomForestClassifier(random_state = 12345)\n",
    "\n",
    "vot_model = VotingClassifier(estimators=[ ('grad', clf1), ('tree', clf2),('forest', clf3)], voting='hard')\n",
    "params = {'grad__n_estimators' : list(range(20,40,2)),\n",
    "          'tree__n_estimators' : list(range(5, 21)), \n",
    "          'forest__criterion' : ['gini', 'entropy']}\n",
    "\n",
    "clf = GridSearchCV(vot_model, params, scoring = 'f1', cv = cv)\n",
    "clf.fit(X_train, y_train)\n",
    "predict = clf.predict(X_test)\n",
    "\n",
    "print('Best parameters & score: ', clf.best_params_, clf.best_score_)\n",
    "print('Predict f1:', f1_score(y_test, predict))"
   ]
  },
  {
   "cell_type": "markdown",
   "metadata": {},
   "source": [
    "## Stacking Classifier &  Logistic Regression as final"
   ]
  },
  {
   "cell_type": "code",
   "execution_count": 119,
   "metadata": {},
   "outputs": [],
   "source": [
    "from sklearn.ensemble import StackingClassifier"
   ]
  },
  {
   "cell_type": "code",
   "execution_count": 127,
   "metadata": {},
   "outputs": [
    {
     "name": "stdout",
     "output_type": "stream",
     "text": [
      "Predict f1 train: 1.0\n",
      "Predict f1 test: 0.8805031446540881\n"
     ]
    }
   ],
   "source": [
    "model_ = StackingClassifier(\n",
    "         estimators=[ ('grad', clf1), ('tree', clf2),('forest', clf3)], final_estimator=LogisticRegression(random_state=12345)\n",
    ")\n",
    "\n",
    "model_.fit(X_train, y_train)\n",
    "predict = model_.predict(X_test)\n",
    "print('Predict f1 train:', f1_score(y_train, model_.predict(X_train)))\n",
    "print('Predict f1 test:', f1_score(y_test, predict))"
   ]
  },
  {
   "cell_type": "markdown",
   "metadata": {},
   "source": [
    "## Stacking Classifier &  Gradeint Boosting as final"
   ]
  },
  {
   "cell_type": "code",
   "execution_count": 124,
   "metadata": {},
   "outputs": [
    {
     "name": "stdout",
     "output_type": "stream",
     "text": [
      "Predict f1 train: 0.9310344827586207\n",
      "Predict f1: 0.8235294117647058\n"
     ]
    }
   ],
   "source": [
    "model = StackingClassifier(\n",
    "         estimators=[ ('grad', clf1), ('tree', clf2),('forest', clf3)], final_estimator=GradientBoostingClassifier(random_state=12345)\n",
    ")\n",
    "\n",
    "model.fit(X_train, y_train)\n",
    "predict = model.predict(X_test)\n",
    "print('Predict f1 train:', f1_score(y_train, model.predict(X_train)))\n",
    "print('Predict f1:', f1_score(y_test, predict))"
   ]
  },
  {
   "cell_type": "markdown",
   "metadata": {},
   "source": [
    "Ответы на вопросы:\n",
    "- Лучшее качетсво предсказания показала Stacking Classifier(Logistic Regression). F1 мера на трейне составила 1 - то есть полное отображение тренировочный выборки в ответы. На тестовой выборке метрика стоставила бы 0.88\n",
    "- Bagging увеличил обобщающую способность бустинга. Переобучения нет, предсказание на тесте выше чем на тренировочных данных.\n",
    "- VotingClassifier использует несколько моделей для предсказания, а итоговый ответ алгоритма формируется из большинства голосов моделей (hard). Stacking Classifier тоже использует несколько моделей для предсказания, но использует их предсказания для обучения финальной модели (final_model) и в качестве ответа выдает предсказание финальной модели."
   ]
  },
  {
   "cell_type": "markdown",
   "metadata": {},
   "source": [
    "### Task 5 <a id=\"task2_5\"></a> (0.1 points)\n",
    "\n",
    "Report the test score for the best model, that you were able to get on this dataset. "
   ]
  },
  {
   "cell_type": "code",
   "execution_count": 128,
   "metadata": {},
   "outputs": [
    {
     "name": "stdout",
     "output_type": "stream",
     "text": [
      "Test f1-score: 0.8805031446540881\n"
     ]
    },
    {
     "data": {
      "text/plain": [
       "StackingClassifier(estimators=[('grad',\n",
       "                                GradientBoostingClassifier(max_depth=10,\n",
       "                                                           random_state=12345)),\n",
       "                               ('tree',\n",
       "                                BaggingClassifier(base_estimator=DecisionTreeClassifier(max_depth=10,\n",
       "                                                                                        min_samples_split=10,\n",
       "                                                                                        random_state=12345),\n",
       "                                                  random_state=12345)),\n",
       "                               ('forest',\n",
       "                                RandomForestClassifier(random_state=12345))],\n",
       "                   final_estimator=LogisticRegression(random_state=12345))"
      ]
     },
     "execution_count": 128,
     "metadata": {},
     "output_type": "execute_result"
    }
   ],
   "source": [
    "print('Test f1-score:', f1_score(y_test, model_.predict(X_test)))\n",
    "model_"
   ]
  }
 ],
 "metadata": {
  "kernelspec": {
   "display_name": "Python 3 (ipykernel)",
   "language": "python",
   "name": "python3"
  },
  "language_info": {
   "codemirror_mode": {
    "name": "ipython",
    "version": 3
   },
   "file_extension": ".py",
   "mimetype": "text/x-python",
   "name": "python",
   "nbconvert_exporter": "python",
   "pygments_lexer": "ipython3",
   "version": "3.9.6"
  }
 },
 "nbformat": 4,
 "nbformat_minor": 4
}